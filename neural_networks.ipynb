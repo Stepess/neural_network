{
 "cells": [
  {
   "cell_type": "markdown",
   "metadata": {},
   "source": [
    "# Neural Netwoks"
   ]
  },
  {
   "cell_type": "markdown",
   "metadata": {},
   "source": [
    "# Data fetch"
   ]
  },
  {
   "cell_type": "code",
   "execution_count": 1,
   "metadata": {},
   "outputs": [],
   "source": [
    "import pandas as pd"
   ]
  },
  {
   "cell_type": "code",
   "execution_count": 9,
   "metadata": {},
   "outputs": [
    {
     "data": {
      "text/html": [
       "<div>\n",
       "<style scoped>\n",
       "    .dataframe tbody tr th:only-of-type {\n",
       "        vertical-align: middle;\n",
       "    }\n",
       "\n",
       "    .dataframe tbody tr th {\n",
       "        vertical-align: top;\n",
       "    }\n",
       "\n",
       "    .dataframe thead th {\n",
       "        text-align: right;\n",
       "    }\n",
       "</style>\n",
       "<table border=\"1\" class=\"dataframe\">\n",
       "  <thead>\n",
       "    <tr style=\"text-align: right;\">\n",
       "      <th></th>\n",
       "      <th>Cultivars</th>\n",
       "      <th>Alcohol</th>\n",
       "      <th>Malic_acid</th>\n",
       "      <th>Ash</th>\n",
       "      <th>Alcalinity_of_ash</th>\n",
       "      <th>Magnesium</th>\n",
       "      <th>Total_phenols</th>\n",
       "      <th>Flavanoids</th>\n",
       "      <th>Nonflavanoid_phenols</th>\n",
       "      <th>Proanthocyanins</th>\n",
       "      <th>Color_intensity</th>\n",
       "      <th>Hue</th>\n",
       "      <th>OD280/OD315_of_diluted_wines</th>\n",
       "      <th>Proline</th>\n",
       "    </tr>\n",
       "  </thead>\n",
       "  <tbody>\n",
       "    <tr>\n",
       "      <th>0</th>\n",
       "      <td>1</td>\n",
       "      <td>14.23</td>\n",
       "      <td>1.71</td>\n",
       "      <td>2.43</td>\n",
       "      <td>15.6</td>\n",
       "      <td>127</td>\n",
       "      <td>2.80</td>\n",
       "      <td>3.06</td>\n",
       "      <td>0.28</td>\n",
       "      <td>2.29</td>\n",
       "      <td>5.64</td>\n",
       "      <td>1.04</td>\n",
       "      <td>3.92</td>\n",
       "      <td>1065</td>\n",
       "    </tr>\n",
       "    <tr>\n",
       "      <th>1</th>\n",
       "      <td>1</td>\n",
       "      <td>13.20</td>\n",
       "      <td>1.78</td>\n",
       "      <td>2.14</td>\n",
       "      <td>11.2</td>\n",
       "      <td>100</td>\n",
       "      <td>2.65</td>\n",
       "      <td>2.76</td>\n",
       "      <td>0.26</td>\n",
       "      <td>1.28</td>\n",
       "      <td>4.38</td>\n",
       "      <td>1.05</td>\n",
       "      <td>3.40</td>\n",
       "      <td>1050</td>\n",
       "    </tr>\n",
       "    <tr>\n",
       "      <th>2</th>\n",
       "      <td>1</td>\n",
       "      <td>13.16</td>\n",
       "      <td>2.36</td>\n",
       "      <td>2.67</td>\n",
       "      <td>18.6</td>\n",
       "      <td>101</td>\n",
       "      <td>2.80</td>\n",
       "      <td>3.24</td>\n",
       "      <td>0.30</td>\n",
       "      <td>2.81</td>\n",
       "      <td>5.68</td>\n",
       "      <td>1.03</td>\n",
       "      <td>3.17</td>\n",
       "      <td>1185</td>\n",
       "    </tr>\n",
       "    <tr>\n",
       "      <th>3</th>\n",
       "      <td>1</td>\n",
       "      <td>14.37</td>\n",
       "      <td>1.95</td>\n",
       "      <td>2.50</td>\n",
       "      <td>16.8</td>\n",
       "      <td>113</td>\n",
       "      <td>3.85</td>\n",
       "      <td>3.49</td>\n",
       "      <td>0.24</td>\n",
       "      <td>2.18</td>\n",
       "      <td>7.80</td>\n",
       "      <td>0.86</td>\n",
       "      <td>3.45</td>\n",
       "      <td>1480</td>\n",
       "    </tr>\n",
       "    <tr>\n",
       "      <th>4</th>\n",
       "      <td>1</td>\n",
       "      <td>13.24</td>\n",
       "      <td>2.59</td>\n",
       "      <td>2.87</td>\n",
       "      <td>21.0</td>\n",
       "      <td>118</td>\n",
       "      <td>2.80</td>\n",
       "      <td>2.69</td>\n",
       "      <td>0.39</td>\n",
       "      <td>1.82</td>\n",
       "      <td>4.32</td>\n",
       "      <td>1.04</td>\n",
       "      <td>2.93</td>\n",
       "      <td>735</td>\n",
       "    </tr>\n",
       "  </tbody>\n",
       "</table>\n",
       "</div>"
      ],
      "text/plain": [
       "   Cultivars  Alcohol  Malic_acid   Ash  Alcalinity_of_ash  Magnesium  \\\n",
       "0          1    14.23        1.71  2.43               15.6        127   \n",
       "1          1    13.20        1.78  2.14               11.2        100   \n",
       "2          1    13.16        2.36  2.67               18.6        101   \n",
       "3          1    14.37        1.95  2.50               16.8        113   \n",
       "4          1    13.24        2.59  2.87               21.0        118   \n",
       "\n",
       "   Total_phenols  Flavanoids  Nonflavanoid_phenols  Proanthocyanins  \\\n",
       "0           2.80        3.06                  0.28             2.29   \n",
       "1           2.65        2.76                  0.26             1.28   \n",
       "2           2.80        3.24                  0.30             2.81   \n",
       "3           3.85        3.49                  0.24             2.18   \n",
       "4           2.80        2.69                  0.39             1.82   \n",
       "\n",
       "   Color_intensity   Hue  OD280/OD315_of_diluted_wines  Proline  \n",
       "0             5.64  1.04                          3.92     1065  \n",
       "1             4.38  1.05                          3.40     1050  \n",
       "2             5.68  1.03                          3.17     1185  \n",
       "3             7.80  0.86                          3.45     1480  \n",
       "4             4.32  1.04                          2.93      735  "
      ]
     },
     "execution_count": 9,
     "metadata": {},
     "output_type": "execute_result"
    }
   ],
   "source": [
    "class_name = 'Cultivars'\n",
    "\n",
    "feature_cols = [\n",
    "        'Alcohol',\n",
    "        'Malic_acid',\n",
    "        'Ash',\n",
    "        'Alcalinity_of_ash',\n",
    "        'Magnesium',\n",
    "        'Total_phenols',\n",
    "        'Flavanoids',\n",
    "        'Nonflavanoid_phenols',\n",
    "        'Proanthocyanins',\n",
    "        'Color_intensity',\n",
    "        'Hue',\n",
    "        'OD280/OD315_of_diluted_wines',\n",
    "        'Proline'\n",
    "    ]\n",
    "\n",
    "cols = feature_cols.copy()\n",
    "cols.insert(0, class_name)\n",
    "\n",
    "df = pd.read_csv('http://archive.ics.uci.edu/ml/machine-learning-databases/wine/wine.data', \n",
    "                 header=None, names=cols)\n",
    "\n",
    "features = df.drop(class_name, axis=1)\n",
    "target = df[class_name]\n",
    "\n",
    "df.head()"
   ]
  },
  {
   "cell_type": "code",
   "execution_count": 10,
   "metadata": {},
   "outputs": [
    {
     "name": "stderr",
     "output_type": "stream",
     "text": [
      "Using TensorFlow backend.\n",
      "/home/stepan/.local/lib/python3.6/site-packages/tensorflow/python/framework/dtypes.py:516: FutureWarning: Passing (type, 1) or '1type' as a synonym of type is deprecated; in a future version of numpy, it will be understood as (type, (1,)) / '(1,)type'.\n",
      "  _np_qint8 = np.dtype([(\"qint8\", np.int8, 1)])\n",
      "/home/stepan/.local/lib/python3.6/site-packages/tensorflow/python/framework/dtypes.py:517: FutureWarning: Passing (type, 1) or '1type' as a synonym of type is deprecated; in a future version of numpy, it will be understood as (type, (1,)) / '(1,)type'.\n",
      "  _np_quint8 = np.dtype([(\"quint8\", np.uint8, 1)])\n",
      "/home/stepan/.local/lib/python3.6/site-packages/tensorflow/python/framework/dtypes.py:518: FutureWarning: Passing (type, 1) or '1type' as a synonym of type is deprecated; in a future version of numpy, it will be understood as (type, (1,)) / '(1,)type'.\n",
      "  _np_qint16 = np.dtype([(\"qint16\", np.int16, 1)])\n",
      "/home/stepan/.local/lib/python3.6/site-packages/tensorflow/python/framework/dtypes.py:519: FutureWarning: Passing (type, 1) or '1type' as a synonym of type is deprecated; in a future version of numpy, it will be understood as (type, (1,)) / '(1,)type'.\n",
      "  _np_quint16 = np.dtype([(\"quint16\", np.uint16, 1)])\n",
      "/home/stepan/.local/lib/python3.6/site-packages/tensorflow/python/framework/dtypes.py:520: FutureWarning: Passing (type, 1) or '1type' as a synonym of type is deprecated; in a future version of numpy, it will be understood as (type, (1,)) / '(1,)type'.\n",
      "  _np_qint32 = np.dtype([(\"qint32\", np.int32, 1)])\n",
      "/home/stepan/.local/lib/python3.6/site-packages/tensorflow/python/framework/dtypes.py:525: FutureWarning: Passing (type, 1) or '1type' as a synonym of type is deprecated; in a future version of numpy, it will be understood as (type, (1,)) / '(1,)type'.\n",
      "  np_resource = np.dtype([(\"resource\", np.ubyte, 1)])\n",
      "/home/stepan/.local/lib/python3.6/site-packages/tensorboard/compat/tensorflow_stub/dtypes.py:541: FutureWarning: Passing (type, 1) or '1type' as a synonym of type is deprecated; in a future version of numpy, it will be understood as (type, (1,)) / '(1,)type'.\n",
      "  _np_qint8 = np.dtype([(\"qint8\", np.int8, 1)])\n",
      "/home/stepan/.local/lib/python3.6/site-packages/tensorboard/compat/tensorflow_stub/dtypes.py:542: FutureWarning: Passing (type, 1) or '1type' as a synonym of type is deprecated; in a future version of numpy, it will be understood as (type, (1,)) / '(1,)type'.\n",
      "  _np_quint8 = np.dtype([(\"quint8\", np.uint8, 1)])\n",
      "/home/stepan/.local/lib/python3.6/site-packages/tensorboard/compat/tensorflow_stub/dtypes.py:543: FutureWarning: Passing (type, 1) or '1type' as a synonym of type is deprecated; in a future version of numpy, it will be understood as (type, (1,)) / '(1,)type'.\n",
      "  _np_qint16 = np.dtype([(\"qint16\", np.int16, 1)])\n",
      "/home/stepan/.local/lib/python3.6/site-packages/tensorboard/compat/tensorflow_stub/dtypes.py:544: FutureWarning: Passing (type, 1) or '1type' as a synonym of type is deprecated; in a future version of numpy, it will be understood as (type, (1,)) / '(1,)type'.\n",
      "  _np_quint16 = np.dtype([(\"quint16\", np.uint16, 1)])\n",
      "/home/stepan/.local/lib/python3.6/site-packages/tensorboard/compat/tensorflow_stub/dtypes.py:545: FutureWarning: Passing (type, 1) or '1type' as a synonym of type is deprecated; in a future version of numpy, it will be understood as (type, (1,)) / '(1,)type'.\n",
      "  _np_qint32 = np.dtype([(\"qint32\", np.int32, 1)])\n",
      "/home/stepan/.local/lib/python3.6/site-packages/tensorboard/compat/tensorflow_stub/dtypes.py:550: FutureWarning: Passing (type, 1) or '1type' as a synonym of type is deprecated; in a future version of numpy, it will be understood as (type, (1,)) / '(1,)type'.\n",
      "  np_resource = np.dtype([(\"resource\", np.ubyte, 1)])\n"
     ]
    }
   ],
   "source": [
    "import keras\n",
    "from keras.layers import Dense\n",
    "from keras.models import Sequential\n",
    "\n",
    "batch_size = 60\n",
    "num_classes = 3\n",
    "epochs = 150\n",
    "input_dim = len(feature_cols) "
   ]
  },
  {
   "cell_type": "code",
   "execution_count": 18,
   "metadata": {},
   "outputs": [
    {
     "ename": "NameError",
     "evalue": "name 'features' is not defined",
     "output_type": "error",
     "traceback": [
      "\u001b[0;31m---------------------------------------------------------------------------\u001b[0m",
      "\u001b[0;31mNameError\u001b[0m                                 Traceback (most recent call last)",
      "\u001b[0;32m<ipython-input-18-dd62606390c4>\u001b[0m in \u001b[0;36m<module>\u001b[0;34m\u001b[0m\n\u001b[1;32m      3\u001b[0m \u001b[0;34m\u001b[0m\u001b[0m\n\u001b[1;32m      4\u001b[0m \u001b[0mscaler\u001b[0m \u001b[0;34m=\u001b[0m \u001b[0mStandardScaler\u001b[0m\u001b[0;34m(\u001b[0m\u001b[0;34m)\u001b[0m\u001b[0;34m\u001b[0m\u001b[0;34m\u001b[0m\u001b[0m\n\u001b[0;32m----> 5\u001b[0;31m \u001b[0mscaled_features\u001b[0m \u001b[0;34m=\u001b[0m \u001b[0mscaler\u001b[0m\u001b[0;34m.\u001b[0m\u001b[0mfit_transform\u001b[0m\u001b[0;34m(\u001b[0m\u001b[0mfeatures\u001b[0m\u001b[0;34m)\u001b[0m\u001b[0;34m\u001b[0m\u001b[0;34m\u001b[0m\u001b[0m\n\u001b[0m\u001b[1;32m      6\u001b[0m \u001b[0;34m\u001b[0m\u001b[0m\n\u001b[1;32m      7\u001b[0m \u001b[0mx_train\u001b[0m\u001b[0;34m,\u001b[0m \u001b[0mx_test\u001b[0m\u001b[0;34m,\u001b[0m \u001b[0my_train\u001b[0m\u001b[0;34m,\u001b[0m \u001b[0my_test\u001b[0m \u001b[0;34m=\u001b[0m \u001b[0mtrain_test_split\u001b[0m\u001b[0;34m(\u001b[0m\u001b[0mscaled_features\u001b[0m\u001b[0;34m,\u001b[0m \u001b[0mtarget\u001b[0m\u001b[0;34m,\u001b[0m \u001b[0mtest_size\u001b[0m\u001b[0;34m=\u001b[0m\u001b[0;36m0.3\u001b[0m\u001b[0;34m)\u001b[0m\u001b[0;34m\u001b[0m\u001b[0;34m\u001b[0m\u001b[0m\n",
      "\u001b[0;31mNameError\u001b[0m: name 'features' is not defined"
     ]
    }
   ],
   "source": [
    "from sklearn.model_selection import train_test_split\n",
    "from sklearn.preprocessing import StandardScaler\n",
    "\n",
    "scaler = StandardScaler()\n",
    "scaled_features = scaler.fit_transform(features)\n",
    "\n",
    "x_train, x_test, y_train, y_test = train_test_split(scaled_features, target, test_size=0.3)\n",
    "\n",
    "# convert class vectors to binary class matrices\n",
    "y_train = keras.utils.to_categorical([x-1 for x in y_train.iloc[:].values], num_classes)\n",
    "y_test = keras.utils.to_categorical([x-1 for x in y_test.iloc[:].values], num_classes)"
   ]
  },
  {
   "cell_type": "markdown",
   "metadata": {},
   "source": [
    "# MLP"
   ]
  },
  {
   "cell_type": "code",
   "execution_count": 5,
   "metadata": {},
   "outputs": [
    {
     "name": "stdout",
     "output_type": "stream",
     "text": [
      "Model: \"sequential_1\"\n",
      "_________________________________________________________________\n",
      "Layer (type)                 Output Shape              Param #   \n",
      "=================================================================\n",
      "dense_1 (Dense)              (None, 8)                 112       \n",
      "_________________________________________________________________\n",
      "dense_2 (Dense)              (None, 8)                 72        \n",
      "_________________________________________________________________\n",
      "dense_3 (Dense)              (None, 3)                 27        \n",
      "=================================================================\n",
      "Total params: 211\n",
      "Trainable params: 211\n",
      "Non-trainable params: 0\n",
      "_________________________________________________________________\n"
     ]
    }
   ],
   "source": [
    "model = Sequential()\n",
    "model.add(Dense(8, activation='relu', input_shape=(input_dim,)))\n",
    "model.add(Dense(8, activation='relu'))\n",
    "model.add(Dense(num_classes, activation='softmax'))\n",
    "\n",
    "model.summary()\n",
    "\n",
    "model.compile(loss='categorical_crossentropy',\n",
    "              optimizer='adam',\n",
    "              metrics=['accuracy'])"
   ]
  },
  {
   "cell_type": "code",
   "execution_count": 6,
   "metadata": {},
   "outputs": [
    {
     "name": "stdout",
     "output_type": "stream",
     "text": [
      "WARNING:tensorflow:From /home/stepan/.local/lib/python3.6/site-packages/keras/backend/tensorflow_backend.py:422: The name tf.global_variables is deprecated. Please use tf.compat.v1.global_variables instead.\n",
      "\n",
      "Train on 124 samples, validate on 54 samples\n",
      "Epoch 1/150\n",
      "124/124 [==============================] - 0s 1ms/step - loss: 1.1218 - accuracy: 0.3306 - val_loss: 1.1221 - val_accuracy: 0.3519\n",
      "Epoch 2/150\n",
      "124/124 [==============================] - 0s 54us/step - loss: 1.1041 - accuracy: 0.3629 - val_loss: 1.1076 - val_accuracy: 0.3519\n",
      "Epoch 3/150\n",
      "124/124 [==============================] - 0s 70us/step - loss: 1.0882 - accuracy: 0.4032 - val_loss: 1.0936 - val_accuracy: 0.3519\n",
      "Epoch 4/150\n",
      "124/124 [==============================] - 0s 96us/step - loss: 1.0733 - accuracy: 0.4355 - val_loss: 1.0799 - val_accuracy: 0.3519\n",
      "Epoch 5/150\n",
      "124/124 [==============================] - 0s 92us/step - loss: 1.0581 - accuracy: 0.4677 - val_loss: 1.0675 - val_accuracy: 0.3704\n",
      "Epoch 6/150\n",
      "124/124 [==============================] - 0s 97us/step - loss: 1.0437 - accuracy: 0.4919 - val_loss: 1.0563 - val_accuracy: 0.3704\n",
      "Epoch 7/150\n",
      "124/124 [==============================] - 0s 74us/step - loss: 1.0307 - accuracy: 0.5161 - val_loss: 1.0450 - val_accuracy: 0.3704\n",
      "Epoch 8/150\n",
      "124/124 [==============================] - 0s 105us/step - loss: 1.0177 - accuracy: 0.5242 - val_loss: 1.0343 - val_accuracy: 0.3889\n",
      "Epoch 9/150\n",
      "124/124 [==============================] - 0s 116us/step - loss: 1.0052 - accuracy: 0.5403 - val_loss: 1.0238 - val_accuracy: 0.4074\n",
      "Epoch 10/150\n",
      "124/124 [==============================] - 0s 104us/step - loss: 0.9939 - accuracy: 0.5484 - val_loss: 1.0139 - val_accuracy: 0.4074\n",
      "Epoch 11/150\n",
      "124/124 [==============================] - 0s 118us/step - loss: 0.9827 - accuracy: 0.5645 - val_loss: 1.0046 - val_accuracy: 0.4074\n",
      "Epoch 12/150\n",
      "124/124 [==============================] - 0s 99us/step - loss: 0.9717 - accuracy: 0.5726 - val_loss: 0.9957 - val_accuracy: 0.4074\n",
      "Epoch 13/150\n",
      "124/124 [==============================] - 0s 111us/step - loss: 0.9602 - accuracy: 0.5887 - val_loss: 0.9870 - val_accuracy: 0.4259\n",
      "Epoch 14/150\n",
      "124/124 [==============================] - 0s 81us/step - loss: 0.9498 - accuracy: 0.5887 - val_loss: 0.9782 - val_accuracy: 0.4444\n",
      "Epoch 15/150\n",
      "124/124 [==============================] - 0s 94us/step - loss: 0.9389 - accuracy: 0.5887 - val_loss: 0.9692 - val_accuracy: 0.4630\n",
      "Epoch 16/150\n",
      "124/124 [==============================] - 0s 116us/step - loss: 0.9284 - accuracy: 0.5887 - val_loss: 0.9601 - val_accuracy: 0.4815\n",
      "Epoch 17/150\n",
      "124/124 [==============================] - 0s 107us/step - loss: 0.9175 - accuracy: 0.5968 - val_loss: 0.9511 - val_accuracy: 0.5000\n",
      "Epoch 18/150\n",
      "124/124 [==============================] - 0s 121us/step - loss: 0.9071 - accuracy: 0.6048 - val_loss: 0.9421 - val_accuracy: 0.5000\n",
      "Epoch 19/150\n",
      "124/124 [==============================] - 0s 99us/step - loss: 0.8970 - accuracy: 0.6048 - val_loss: 0.9333 - val_accuracy: 0.4815\n",
      "Epoch 20/150\n",
      "124/124 [==============================] - 0s 103us/step - loss: 0.8867 - accuracy: 0.6048 - val_loss: 0.9244 - val_accuracy: 0.5000\n",
      "Epoch 21/150\n",
      "124/124 [==============================] - 0s 99us/step - loss: 0.8765 - accuracy: 0.6129 - val_loss: 0.9157 - val_accuracy: 0.5000\n",
      "Epoch 22/150\n",
      "124/124 [==============================] - 0s 87us/step - loss: 0.8663 - accuracy: 0.6129 - val_loss: 0.9070 - val_accuracy: 0.5185\n",
      "Epoch 23/150\n",
      "124/124 [==============================] - 0s 192us/step - loss: 0.8569 - accuracy: 0.6129 - val_loss: 0.8981 - val_accuracy: 0.5185\n",
      "Epoch 24/150\n",
      "124/124 [==============================] - 0s 133us/step - loss: 0.8472 - accuracy: 0.6129 - val_loss: 0.8892 - val_accuracy: 0.5185\n",
      "Epoch 25/150\n",
      "124/124 [==============================] - 0s 93us/step - loss: 0.8380 - accuracy: 0.6210 - val_loss: 0.8804 - val_accuracy: 0.5185\n",
      "Epoch 26/150\n",
      "124/124 [==============================] - 0s 101us/step - loss: 0.8283 - accuracy: 0.6210 - val_loss: 0.8714 - val_accuracy: 0.5556\n",
      "Epoch 27/150\n",
      "124/124 [==============================] - 0s 138us/step - loss: 0.8188 - accuracy: 0.6290 - val_loss: 0.8625 - val_accuracy: 0.5741\n",
      "Epoch 28/150\n",
      "124/124 [==============================] - 0s 122us/step - loss: 0.8093 - accuracy: 0.6290 - val_loss: 0.8535 - val_accuracy: 0.5926\n",
      "Epoch 29/150\n",
      "124/124 [==============================] - 0s 117us/step - loss: 0.8000 - accuracy: 0.6452 - val_loss: 0.8443 - val_accuracy: 0.6111\n",
      "Epoch 30/150\n",
      "124/124 [==============================] - 0s 127us/step - loss: 0.7905 - accuracy: 0.6532 - val_loss: 0.8354 - val_accuracy: 0.6296\n",
      "Epoch 31/150\n",
      "124/124 [==============================] - 0s 115us/step - loss: 0.7810 - accuracy: 0.6613 - val_loss: 0.8265 - val_accuracy: 0.6481\n",
      "Epoch 32/150\n",
      "124/124 [==============================] - 0s 116us/step - loss: 0.7720 - accuracy: 0.6613 - val_loss: 0.8178 - val_accuracy: 0.6481\n",
      "Epoch 33/150\n",
      "124/124 [==============================] - 0s 118us/step - loss: 0.7631 - accuracy: 0.6694 - val_loss: 0.8096 - val_accuracy: 0.6667\n",
      "Epoch 34/150\n",
      "124/124 [==============================] - 0s 109us/step - loss: 0.7543 - accuracy: 0.6774 - val_loss: 0.8015 - val_accuracy: 0.6667\n",
      "Epoch 35/150\n",
      "124/124 [==============================] - 0s 122us/step - loss: 0.7456 - accuracy: 0.6774 - val_loss: 0.7929 - val_accuracy: 0.6667\n",
      "Epoch 36/150\n",
      "124/124 [==============================] - 0s 75us/step - loss: 0.7371 - accuracy: 0.7016 - val_loss: 0.7842 - val_accuracy: 0.6667\n",
      "Epoch 37/150\n",
      "124/124 [==============================] - 0s 106us/step - loss: 0.7288 - accuracy: 0.7097 - val_loss: 0.7759 - val_accuracy: 0.6852\n",
      "Epoch 38/150\n",
      "124/124 [==============================] - 0s 86us/step - loss: 0.7210 - accuracy: 0.7258 - val_loss: 0.7681 - val_accuracy: 0.7037\n",
      "Epoch 39/150\n",
      "124/124 [==============================] - 0s 81us/step - loss: 0.7130 - accuracy: 0.7419 - val_loss: 0.7608 - val_accuracy: 0.7222\n",
      "Epoch 40/150\n",
      "124/124 [==============================] - 0s 66us/step - loss: 0.7053 - accuracy: 0.7419 - val_loss: 0.7536 - val_accuracy: 0.7407\n",
      "Epoch 41/150\n",
      "124/124 [==============================] - 0s 63us/step - loss: 0.6978 - accuracy: 0.7500 - val_loss: 0.7461 - val_accuracy: 0.7407\n",
      "Epoch 42/150\n",
      "124/124 [==============================] - 0s 90us/step - loss: 0.6901 - accuracy: 0.7500 - val_loss: 0.7381 - val_accuracy: 0.7407\n",
      "Epoch 43/150\n",
      "124/124 [==============================] - 0s 92us/step - loss: 0.6821 - accuracy: 0.7500 - val_loss: 0.7300 - val_accuracy: 0.7407\n",
      "Epoch 44/150\n",
      "124/124 [==============================] - 0s 57us/step - loss: 0.6740 - accuracy: 0.7500 - val_loss: 0.7222 - val_accuracy: 0.7593\n",
      "Epoch 45/150\n",
      "124/124 [==============================] - 0s 71us/step - loss: 0.6662 - accuracy: 0.7581 - val_loss: 0.7142 - val_accuracy: 0.7593\n",
      "Epoch 46/150\n",
      "124/124 [==============================] - 0s 92us/step - loss: 0.6579 - accuracy: 0.7581 - val_loss: 0.7062 - val_accuracy: 0.7593\n",
      "Epoch 47/150\n",
      "124/124 [==============================] - 0s 73us/step - loss: 0.6498 - accuracy: 0.7581 - val_loss: 0.6982 - val_accuracy: 0.7593\n",
      "Epoch 48/150\n",
      "124/124 [==============================] - 0s 62us/step - loss: 0.6415 - accuracy: 0.7742 - val_loss: 0.6903 - val_accuracy: 0.7593\n",
      "Epoch 49/150\n",
      "124/124 [==============================] - 0s 67us/step - loss: 0.6333 - accuracy: 0.7742 - val_loss: 0.6822 - val_accuracy: 0.7593\n",
      "Epoch 50/150\n",
      "124/124 [==============================] - 0s 79us/step - loss: 0.6252 - accuracy: 0.7823 - val_loss: 0.6740 - val_accuracy: 0.7778\n",
      "Epoch 51/150\n",
      "124/124 [==============================] - 0s 62us/step - loss: 0.6168 - accuracy: 0.7903 - val_loss: 0.6659 - val_accuracy: 0.7963\n",
      "Epoch 52/150\n",
      "124/124 [==============================] - 0s 71us/step - loss: 0.6088 - accuracy: 0.7984 - val_loss: 0.6577 - val_accuracy: 0.7963\n",
      "Epoch 53/150\n",
      "124/124 [==============================] - 0s 94us/step - loss: 0.6010 - accuracy: 0.8145 - val_loss: 0.6491 - val_accuracy: 0.8148\n",
      "Epoch 54/150\n",
      "124/124 [==============================] - 0s 77us/step - loss: 0.5931 - accuracy: 0.8226 - val_loss: 0.6399 - val_accuracy: 0.8333\n",
      "Epoch 55/150\n",
      "124/124 [==============================] - 0s 79us/step - loss: 0.5850 - accuracy: 0.8226 - val_loss: 0.6308 - val_accuracy: 0.8519\n"
     ]
    },
    {
     "name": "stdout",
     "output_type": "stream",
     "text": [
      "Epoch 56/150\n",
      "124/124 [==============================] - 0s 67us/step - loss: 0.5771 - accuracy: 0.8306 - val_loss: 0.6219 - val_accuracy: 0.8519\n",
      "Epoch 57/150\n",
      "124/124 [==============================] - 0s 91us/step - loss: 0.5691 - accuracy: 0.8306 - val_loss: 0.6131 - val_accuracy: 0.8519\n",
      "Epoch 58/150\n",
      "124/124 [==============================] - 0s 96us/step - loss: 0.5608 - accuracy: 0.8387 - val_loss: 0.6042 - val_accuracy: 0.8519\n",
      "Epoch 59/150\n",
      "124/124 [==============================] - 0s 73us/step - loss: 0.5528 - accuracy: 0.8387 - val_loss: 0.5957 - val_accuracy: 0.8519\n",
      "Epoch 60/150\n",
      "124/124 [==============================] - 0s 58us/step - loss: 0.5446 - accuracy: 0.8468 - val_loss: 0.5872 - val_accuracy: 0.8704\n",
      "Epoch 61/150\n",
      "124/124 [==============================] - 0s 106us/step - loss: 0.5362 - accuracy: 0.8468 - val_loss: 0.5787 - val_accuracy: 0.8704\n",
      "Epoch 62/150\n",
      "124/124 [==============================] - 0s 88us/step - loss: 0.5285 - accuracy: 0.8468 - val_loss: 0.5700 - val_accuracy: 0.8704\n",
      "Epoch 63/150\n",
      "124/124 [==============================] - 0s 88us/step - loss: 0.5206 - accuracy: 0.8468 - val_loss: 0.5610 - val_accuracy: 0.8704\n",
      "Epoch 64/150\n",
      "124/124 [==============================] - 0s 73us/step - loss: 0.5128 - accuracy: 0.8468 - val_loss: 0.5520 - val_accuracy: 0.8704\n",
      "Epoch 65/150\n",
      "124/124 [==============================] - 0s 71us/step - loss: 0.5048 - accuracy: 0.8468 - val_loss: 0.5433 - val_accuracy: 0.8704\n",
      "Epoch 66/150\n",
      "124/124 [==============================] - 0s 86us/step - loss: 0.4972 - accuracy: 0.8468 - val_loss: 0.5344 - val_accuracy: 0.8889\n",
      "Epoch 67/150\n",
      "124/124 [==============================] - 0s 93us/step - loss: 0.4899 - accuracy: 0.8468 - val_loss: 0.5257 - val_accuracy: 0.8889\n",
      "Epoch 68/150\n",
      "124/124 [==============================] - 0s 71us/step - loss: 0.4825 - accuracy: 0.8548 - val_loss: 0.5173 - val_accuracy: 0.8889\n",
      "Epoch 69/150\n",
      "124/124 [==============================] - 0s 71us/step - loss: 0.4751 - accuracy: 0.8548 - val_loss: 0.5092 - val_accuracy: 0.8889\n",
      "Epoch 70/150\n",
      "124/124 [==============================] - 0s 85us/step - loss: 0.4677 - accuracy: 0.8710 - val_loss: 0.5015 - val_accuracy: 0.8889\n",
      "Epoch 71/150\n",
      "124/124 [==============================] - 0s 93us/step - loss: 0.4606 - accuracy: 0.8710 - val_loss: 0.4940 - val_accuracy: 0.8889\n",
      "Epoch 72/150\n",
      "124/124 [==============================] - 0s 65us/step - loss: 0.4538 - accuracy: 0.8710 - val_loss: 0.4867 - val_accuracy: 0.8889\n",
      "Epoch 73/150\n",
      "124/124 [==============================] - 0s 71us/step - loss: 0.4470 - accuracy: 0.8710 - val_loss: 0.4796 - val_accuracy: 0.9074\n",
      "Epoch 74/150\n",
      "124/124 [==============================] - 0s 75us/step - loss: 0.4404 - accuracy: 0.8710 - val_loss: 0.4723 - val_accuracy: 0.9259\n",
      "Epoch 75/150\n",
      "124/124 [==============================] - 0s 93us/step - loss: 0.4337 - accuracy: 0.8710 - val_loss: 0.4652 - val_accuracy: 0.9259\n",
      "Epoch 76/150\n",
      "124/124 [==============================] - 0s 77us/step - loss: 0.4270 - accuracy: 0.8790 - val_loss: 0.4581 - val_accuracy: 0.9259\n",
      "Epoch 77/150\n",
      "124/124 [==============================] - 0s 67us/step - loss: 0.4207 - accuracy: 0.8871 - val_loss: 0.4505 - val_accuracy: 0.9259\n",
      "Epoch 78/150\n",
      "124/124 [==============================] - 0s 79us/step - loss: 0.4140 - accuracy: 0.8871 - val_loss: 0.4423 - val_accuracy: 0.9630\n",
      "Epoch 79/150\n",
      "124/124 [==============================] - 0s 73us/step - loss: 0.4074 - accuracy: 0.8952 - val_loss: 0.4341 - val_accuracy: 0.9630\n",
      "Epoch 80/150\n",
      "124/124 [==============================] - 0s 83us/step - loss: 0.4006 - accuracy: 0.8952 - val_loss: 0.4262 - val_accuracy: 0.9630\n",
      "Epoch 81/150\n",
      "124/124 [==============================] - 0s 61us/step - loss: 0.3939 - accuracy: 0.8952 - val_loss: 0.4184 - val_accuracy: 0.9630\n",
      "Epoch 82/150\n",
      "124/124 [==============================] - 0s 63us/step - loss: 0.3874 - accuracy: 0.9032 - val_loss: 0.4103 - val_accuracy: 0.9630\n",
      "Epoch 83/150\n",
      "124/124 [==============================] - 0s 84us/step - loss: 0.3805 - accuracy: 0.9032 - val_loss: 0.4018 - val_accuracy: 0.9630\n",
      "Epoch 84/150\n",
      "124/124 [==============================] - 0s 88us/step - loss: 0.3738 - accuracy: 0.9032 - val_loss: 0.3933 - val_accuracy: 0.9630\n",
      "Epoch 85/150\n",
      "124/124 [==============================] - 0s 71us/step - loss: 0.3666 - accuracy: 0.9113 - val_loss: 0.3849 - val_accuracy: 0.9630\n",
      "Epoch 86/150\n",
      "124/124 [==============================] - 0s 67us/step - loss: 0.3597 - accuracy: 0.9113 - val_loss: 0.3770 - val_accuracy: 0.9630\n",
      "Epoch 87/150\n",
      "124/124 [==============================] - 0s 92us/step - loss: 0.3532 - accuracy: 0.9194 - val_loss: 0.3694 - val_accuracy: 0.9815\n",
      "Epoch 88/150\n",
      "124/124 [==============================] - 0s 75us/step - loss: 0.3469 - accuracy: 0.9194 - val_loss: 0.3616 - val_accuracy: 0.9815\n",
      "Epoch 89/150\n",
      "124/124 [==============================] - 0s 60us/step - loss: 0.3405 - accuracy: 0.9113 - val_loss: 0.3539 - val_accuracy: 0.9815\n",
      "Epoch 90/150\n",
      "124/124 [==============================] - 0s 73us/step - loss: 0.3341 - accuracy: 0.9194 - val_loss: 0.3465 - val_accuracy: 0.9815\n",
      "Epoch 91/150\n",
      "124/124 [==============================] - 0s 77us/step - loss: 0.3281 - accuracy: 0.9194 - val_loss: 0.3392 - val_accuracy: 0.9815\n",
      "Epoch 92/150\n",
      "124/124 [==============================] - 0s 75us/step - loss: 0.3217 - accuracy: 0.9194 - val_loss: 0.3323 - val_accuracy: 0.9815\n",
      "Epoch 93/150\n",
      "124/124 [==============================] - 0s 53us/step - loss: 0.3159 - accuracy: 0.9194 - val_loss: 0.3255 - val_accuracy: 0.9815\n",
      "Epoch 94/150\n",
      "124/124 [==============================] - 0s 71us/step - loss: 0.3103 - accuracy: 0.9194 - val_loss: 0.3187 - val_accuracy: 0.9815\n",
      "Epoch 95/150\n",
      "124/124 [==============================] - 0s 89us/step - loss: 0.3046 - accuracy: 0.9194 - val_loss: 0.3118 - val_accuracy: 0.9815\n",
      "Epoch 96/150\n",
      "124/124 [==============================] - 0s 80us/step - loss: 0.2987 - accuracy: 0.9274 - val_loss: 0.3052 - val_accuracy: 0.9815\n",
      "Epoch 97/150\n",
      "124/124 [==============================] - 0s 101us/step - loss: 0.2931 - accuracy: 0.9274 - val_loss: 0.2988 - val_accuracy: 0.9815\n",
      "Epoch 98/150\n",
      "124/124 [==============================] - 0s 75us/step - loss: 0.2876 - accuracy: 0.9274 - val_loss: 0.2928 - val_accuracy: 0.9815\n",
      "Epoch 99/150\n",
      "124/124 [==============================] - 0s 66us/step - loss: 0.2824 - accuracy: 0.9274 - val_loss: 0.2871 - val_accuracy: 0.9815\n",
      "Epoch 100/150\n",
      "124/124 [==============================] - 0s 91us/step - loss: 0.2771 - accuracy: 0.9274 - val_loss: 0.2814 - val_accuracy: 0.9815\n",
      "Epoch 101/150\n",
      "124/124 [==============================] - 0s 68us/step - loss: 0.2720 - accuracy: 0.9274 - val_loss: 0.2757 - val_accuracy: 0.9815\n",
      "Epoch 102/150\n",
      "124/124 [==============================] - 0s 70us/step - loss: 0.2669 - accuracy: 0.9274 - val_loss: 0.2702 - val_accuracy: 0.9815\n",
      "Epoch 103/150\n",
      "124/124 [==============================] - 0s 79us/step - loss: 0.2619 - accuracy: 0.9274 - val_loss: 0.2652 - val_accuracy: 0.9815\n",
      "Epoch 104/150\n",
      "124/124 [==============================] - 0s 76us/step - loss: 0.2572 - accuracy: 0.9274 - val_loss: 0.2604 - val_accuracy: 0.9815\n",
      "Epoch 105/150\n",
      "124/124 [==============================] - 0s 51us/step - loss: 0.2527 - accuracy: 0.9274 - val_loss: 0.2557 - val_accuracy: 0.9815\n",
      "Epoch 106/150\n",
      "124/124 [==============================] - 0s 70us/step - loss: 0.2484 - accuracy: 0.9274 - val_loss: 0.2509 - val_accuracy: 0.9815\n",
      "Epoch 107/150\n",
      "124/124 [==============================] - 0s 98us/step - loss: 0.2439 - accuracy: 0.9274 - val_loss: 0.2463 - val_accuracy: 0.9815\n",
      "Epoch 108/150\n",
      "124/124 [==============================] - 0s 86us/step - loss: 0.2395 - accuracy: 0.9274 - val_loss: 0.2419 - val_accuracy: 0.9815\n",
      "Epoch 109/150\n",
      "124/124 [==============================] - 0s 79us/step - loss: 0.2351 - accuracy: 0.9274 - val_loss: 0.2372 - val_accuracy: 0.9815\n",
      "Epoch 110/150\n",
      "124/124 [==============================] - 0s 73us/step - loss: 0.2306 - accuracy: 0.9355 - val_loss: 0.2323 - val_accuracy: 0.9815\n",
      "Epoch 111/150\n",
      "124/124 [==============================] - 0s 65us/step - loss: 0.2260 - accuracy: 0.9355 - val_loss: 0.2275 - val_accuracy: 0.9815\n",
      "Epoch 112/150\n",
      "124/124 [==============================] - 0s 128us/step - loss: 0.2215 - accuracy: 0.9355 - val_loss: 0.2227 - val_accuracy: 0.9815\n",
      "Epoch 113/150\n",
      "124/124 [==============================] - 0s 96us/step - loss: 0.2173 - accuracy: 0.9355 - val_loss: 0.2181 - val_accuracy: 0.9815\n",
      "Epoch 114/150\n",
      "124/124 [==============================] - 0s 75us/step - loss: 0.2130 - accuracy: 0.9355 - val_loss: 0.2139 - val_accuracy: 0.9815\n",
      "Epoch 115/150\n",
      "124/124 [==============================] - 0s 83us/step - loss: 0.2091 - accuracy: 0.9355 - val_loss: 0.2100 - val_accuracy: 0.9815\n",
      "Epoch 116/150\n",
      "124/124 [==============================] - 0s 69us/step - loss: 0.2052 - accuracy: 0.9355 - val_loss: 0.2060 - val_accuracy: 0.9815\n",
      "Epoch 117/150\n",
      "124/124 [==============================] - 0s 73us/step - loss: 0.2015 - accuracy: 0.9435 - val_loss: 0.2021 - val_accuracy: 0.9815\n",
      "Epoch 118/150\n",
      "124/124 [==============================] - 0s 109us/step - loss: 0.1976 - accuracy: 0.9516 - val_loss: 0.1984 - val_accuracy: 0.9815\n",
      "Epoch 119/150\n",
      "124/124 [==============================] - 0s 91us/step - loss: 0.1941 - accuracy: 0.9597 - val_loss: 0.1948 - val_accuracy: 0.9815\n",
      "Epoch 120/150\n",
      "124/124 [==============================] - 0s 70us/step - loss: 0.1905 - accuracy: 0.9597 - val_loss: 0.1915 - val_accuracy: 0.9815\n",
      "Epoch 121/150\n",
      "124/124 [==============================] - 0s 63us/step - loss: 0.1871 - accuracy: 0.9677 - val_loss: 0.1882 - val_accuracy: 0.9815\n",
      "Epoch 122/150\n",
      "124/124 [==============================] - 0s 86us/step - loss: 0.1836 - accuracy: 0.9677 - val_loss: 0.1851 - val_accuracy: 0.9815\n",
      "Epoch 123/150\n",
      "124/124 [==============================] - 0s 75us/step - loss: 0.1803 - accuracy: 0.9677 - val_loss: 0.1822 - val_accuracy: 0.9815\n",
      "Epoch 124/150\n",
      "124/124 [==============================] - 0s 56us/step - loss: 0.1770 - accuracy: 0.9677 - val_loss: 0.1794 - val_accuracy: 0.9815\n",
      "Epoch 125/150\n",
      "124/124 [==============================] - 0s 79us/step - loss: 0.1738 - accuracy: 0.9677 - val_loss: 0.1766 - val_accuracy: 0.9815\n",
      "Epoch 126/150\n",
      "124/124 [==============================] - 0s 87us/step - loss: 0.1704 - accuracy: 0.9758 - val_loss: 0.1737 - val_accuracy: 0.9815\n",
      "Epoch 127/150\n",
      "124/124 [==============================] - 0s 66us/step - loss: 0.1673 - accuracy: 0.9758 - val_loss: 0.1708 - val_accuracy: 0.9815\n",
      "Epoch 128/150\n",
      "124/124 [==============================] - 0s 65us/step - loss: 0.1643 - accuracy: 0.9758 - val_loss: 0.1681 - val_accuracy: 0.9815\n",
      "Epoch 129/150\n",
      "124/124 [==============================] - 0s 76us/step - loss: 0.1612 - accuracy: 0.9758 - val_loss: 0.1650 - val_accuracy: 0.9815\n",
      "Epoch 130/150\n",
      "124/124 [==============================] - 0s 87us/step - loss: 0.1580 - accuracy: 0.9758 - val_loss: 0.1622 - val_accuracy: 0.9815\n",
      "Epoch 131/150\n",
      "124/124 [==============================] - 0s 72us/step - loss: 0.1549 - accuracy: 0.9758 - val_loss: 0.1596 - val_accuracy: 0.9815\n",
      "Epoch 132/150\n",
      "124/124 [==============================] - 0s 70us/step - loss: 0.1520 - accuracy: 0.9758 - val_loss: 0.1571 - val_accuracy: 0.9815\n",
      "Epoch 133/150\n",
      "124/124 [==============================] - 0s 99us/step - loss: 0.1492 - accuracy: 0.9758 - val_loss: 0.1546 - val_accuracy: 0.9815\n",
      "Epoch 134/150\n",
      "124/124 [==============================] - 0s 107us/step - loss: 0.1463 - accuracy: 0.9758 - val_loss: 0.1524 - val_accuracy: 0.9815\n",
      "Epoch 135/150\n",
      "124/124 [==============================] - 0s 85us/step - loss: 0.1435 - accuracy: 0.9758 - val_loss: 0.1501 - val_accuracy: 0.9815\n",
      "Epoch 136/150\n",
      "124/124 [==============================] - 0s 74us/step - loss: 0.1408 - accuracy: 0.9758 - val_loss: 0.1480 - val_accuracy: 0.9815\n",
      "Epoch 137/150\n",
      "124/124 [==============================] - 0s 74us/step - loss: 0.1382 - accuracy: 0.9839 - val_loss: 0.1459 - val_accuracy: 0.9815\n",
      "Epoch 138/150\n",
      "124/124 [==============================] - 0s 89us/step - loss: 0.1360 - accuracy: 0.9839 - val_loss: 0.1437 - val_accuracy: 0.9815\n",
      "Epoch 139/150\n",
      "124/124 [==============================] - 0s 78us/step - loss: 0.1336 - accuracy: 0.9839 - val_loss: 0.1416 - val_accuracy: 0.9815\n",
      "Epoch 140/150\n",
      "124/124 [==============================] - 0s 65us/step - loss: 0.1314 - accuracy: 0.9839 - val_loss: 0.1396 - val_accuracy: 0.9815\n",
      "Epoch 141/150\n",
      "124/124 [==============================] - 0s 85us/step - loss: 0.1290 - accuracy: 0.9839 - val_loss: 0.1380 - val_accuracy: 0.9815\n",
      "Epoch 142/150\n",
      "124/124 [==============================] - 0s 85us/step - loss: 0.1268 - accuracy: 0.9839 - val_loss: 0.1364 - val_accuracy: 0.9815\n",
      "Epoch 143/150\n",
      "124/124 [==============================] - 0s 72us/step - loss: 0.1247 - accuracy: 0.9839 - val_loss: 0.1348 - val_accuracy: 0.9815\n",
      "Epoch 144/150\n",
      "124/124 [==============================] - 0s 65us/step - loss: 0.1224 - accuracy: 0.9839 - val_loss: 0.1334 - val_accuracy: 0.9815\n",
      "Epoch 145/150\n",
      "124/124 [==============================] - 0s 70us/step - loss: 0.1202 - accuracy: 0.9839 - val_loss: 0.1321 - val_accuracy: 0.9815\n",
      "Epoch 146/150\n",
      "124/124 [==============================] - 0s 78us/step - loss: 0.1180 - accuracy: 0.9839 - val_loss: 0.1308 - val_accuracy: 0.9815\n",
      "Epoch 147/150\n",
      "124/124 [==============================] - 0s 116us/step - loss: 0.1160 - accuracy: 0.9839 - val_loss: 0.1294 - val_accuracy: 0.9815\n",
      "Epoch 148/150\n",
      "124/124 [==============================] - 0s 89us/step - loss: 0.1139 - accuracy: 0.9839 - val_loss: 0.1279 - val_accuracy: 0.9815\n",
      "Epoch 149/150\n",
      "124/124 [==============================] - 0s 88us/step - loss: 0.1121 - accuracy: 0.9839 - val_loss: 0.1265 - val_accuracy: 0.9815\n",
      "Epoch 150/150\n",
      "124/124 [==============================] - 0s 60us/step - loss: 0.1104 - accuracy: 0.9839 - val_loss: 0.1251 - val_accuracy: 0.9815\n",
      "Test loss: 0.12507736075807502\n",
      "Test accuracy: 0.9814814925193787\n"
     ]
    }
   ],
   "source": [
    "history = model.fit(x_train, y_train,\n",
    "                    batch_size=batch_size,\n",
    "                    epochs=150,\n",
    "                    verbose=1,\n",
    "                    validation_data=(x_test, y_test))\n",
    "\n",
    "score = model.evaluate(x_test, y_test, verbose=0)\n",
    "print('Test loss:', score[0])\n",
    "print('Test accuracy:', score[1])"
   ]
  },
  {
   "cell_type": "markdown",
   "metadata": {},
   "source": [
    "# CNN"
   ]
  },
  {
   "cell_type": "code",
   "execution_count": 44,
   "metadata": {},
   "outputs": [],
   "source": [
    "import os, shutil\n",
    "from keras.preprocessing import image\n",
    "\n",
    "def get_files_in_dir(path):\n",
    "    return [os.path.join(path, fname) for fname in os.listdir(path)]\n",
    "\n",
    "train_dir = 'fruits-360_dataset/banana_and_apple/train/'\n",
    "\n",
    "test_dir = 'fruits-360_dataset/banana_and_apple/test/'\n",
    "\n",
    "train_apple_dir = train_dir + 'Apple Golden 2'\n",
    "train_banana_dir = train_dir + 'Banana'\n",
    "\n",
    "fnames_apple = get_files_in_dir(train_apple_dir)\n",
    "fnames_banana = get_files_in_dir(train_banana_dir)\n",
    "\n",
    "apple = image.load_img(fnames_apple[3], target_size=(100, 100))\n",
    "banana = image.load_img(fnames_banana[3], target_size=(100, 100))"
   ]
  },
  {
   "cell_type": "code",
   "execution_count": 45,
   "metadata": {},
   "outputs": [
    {
     "data": {
      "image/png": "[encoded data removed]",
      "text/plain": [
       "<PIL.JpegImagePlugin.JpegImageFile image mode=RGB size=100x100 at 0x7F1FF9706E48>"
      ]
     },
     "execution_count": 45,
     "metadata": {},
     "output_type": "execute_result"
    }
   ],
   "source": [
    "apple"
   ]
  },
  {
   "cell_type": "code",
   "execution_count": 46,
   "metadata": {},
   "outputs": [
    {
     "data": {
      "image/png": "[encoded data removed]",
      "text/plain": [
       "<PIL.JpegImagePlugin.JpegImageFile image mode=RGB size=100x100 at 0x7F1FF9706E10>"
      ]
     },
     "execution_count": 46,
     "metadata": {},
     "output_type": "execute_result"
    }
   ],
   "source": [
    "banana"
   ]
  },
  {
   "cell_type": "code",
   "execution_count": 14,
   "metadata": {},
   "outputs": [],
   "source": [
    "from keras.preprocessing.image import ImageDataGenerator\n",
    "\n",
    "train_datagen = ImageDataGenerator(\n",
    "    rescale=1./255,\n",
    "    rotation_range=40,\n",
    "    width_shift_range=0.2,\n",
    "    height_shift_range=0.2,\n",
    "    shear_range=0.2,\n",
    "    zoom_range=0.2,\n",
    "    horizontal_flip=True,)\n",
    "\n",
    "val_datagen = ImageDataGenerator(rescale=1./255)"
   ]
  },
  {
   "cell_type": "code",
   "execution_count": 26,
   "metadata": {},
   "outputs": [
    {
     "name": "stdout",
     "output_type": "stream",
     "text": [
      "Found 982 images belonging to 2 classes.\n",
      "Found 330 images belonging to 2 classes.\n"
     ]
    }
   ],
   "source": [
    "img_size = (100, 100)\n",
    "\n",
    "train_generator = train_datagen.flow_from_directory(\n",
    "    train_dir,\n",
    "    target_size=img_size,\n",
    "    batch_size=32,\n",
    "    class_mode='binary')\n",
    "\n",
    "\n",
    "validation_generator = val_datagen.flow_from_directory(\n",
    "    test_dir,\n",
    "    target_size=img_size,\n",
    "    batch_size=32,\n",
    "    class_mode='binary')"
   ]
  },
  {
   "cell_type": "code",
   "execution_count": 37,
   "metadata": {},
   "outputs": [
    {
     "name": "stdout",
     "output_type": "stream",
     "text": [
      "Model: \"sequential_10\"\n",
      "_________________________________________________________________\n",
      "Layer (type)                 Output Shape              Param #   \n",
      "=================================================================\n",
      "conv2d_17 (Conv2D)           (None, 100, 100, 16)      208       \n",
      "_________________________________________________________________\n",
      "max_pooling2d_16 (MaxPooling (None, 50, 50, 16)        0         \n",
      "_________________________________________________________________\n",
      "conv2d_18 (Conv2D)           (None, 50, 50, 32)        4640      \n",
      "_________________________________________________________________\n",
      "max_pooling2d_17 (MaxPooling (None, 25, 25, 32)        0         \n",
      "_________________________________________________________________\n",
      "conv2d_19 (Conv2D)           (None, 25, 25, 64)        32832     \n",
      "_________________________________________________________________\n",
      "max_pooling2d_18 (MaxPooling (None, 13, 13, 64)        0         \n",
      "_________________________________________________________________\n",
      "flatten_6 (Flatten)          (None, 10816)             0         \n",
      "_________________________________________________________________\n",
      "dense_11 (Dense)             (None, 256)               2769152   \n",
      "_________________________________________________________________\n",
      "dense_12 (Dense)             (None, 2)                 514       \n",
      "=================================================================\n",
      "Total params: 2,807,346\n",
      "Trainable params: 2,807,346\n",
      "Non-trainable params: 0\n",
      "_________________________________________________________________\n"
     ]
    }
   ],
   "source": [
    "from keras.models import Sequential\n",
    "from keras.layers import Conv2D, MaxPooling2D, AveragePooling2D\n",
    "from keras.layers import Dropout, Flatten, Dense\n",
    "model = Sequential()\n",
    "\n",
    "model.add(Conv2D(filters=16, kernel_size=(2, 2), padding=\"same\", activation=\"relu\", input_shape=(100,100,3)))\n",
    "model.add(MaxPooling2D(pool_size=(2, 2), padding='same'))\n",
    "\n",
    "model.add(Conv2D(filters=32, kernel_size=(3, 3), padding=\"same\", activation=\"relu\"))\n",
    "model.add(MaxPooling2D(pool_size=(2, 2), padding='same'))\n",
    "\n",
    "model.add(Conv2D(filters=64, kernel_size=(4, 4), padding=\"same\", activation=\"relu\"))\n",
    "model.add(MaxPooling2D(pool_size=(2, 2), padding='same'))\n",
    "\n",
    "model.add(Flatten())\n",
    "\n",
    "model.add(Dense(256, activation=\"relu\"))\n",
    "model.add(Dense(2, activation=\"softmax\"))\n",
    "\n",
    "model.compile(optimizer='adam', loss='sparse_categorical_crossentropy', metrics=['accuracy'])\n",
    "model.summary()"
   ]
  },
  {
   "cell_type": "code",
   "execution_count": 40,
   "metadata": {},
   "outputs": [
    {
     "name": "stdout",
     "output_type": "stream",
     "text": [
      "Epoch 1/8\n",
      "30/30 [==============================] - 9s 286ms/step - loss: 3.0997e-06 - accuracy: 1.0000 - val_loss: 4.6342e-06 - val_accuracy: 1.0000\n",
      "Epoch 2/8\n",
      "30/30 [==============================] - 8s 273ms/step - loss: 6.4468e-06 - accuracy: 1.0000 - val_loss: 2.0117e-07 - val_accuracy: 1.0000\n",
      "Epoch 3/8\n",
      "30/30 [==============================] - 8s 271ms/step - loss: 2.5088e-06 - accuracy: 1.0000 - val_loss: 1.1213e-06 - val_accuracy: 1.0000\n",
      "Epoch 4/8\n",
      "30/30 [==============================] - 8s 276ms/step - loss: 3.9255e-06 - accuracy: 1.0000 - val_loss: 1.1176e-07 - val_accuracy: 1.0000\n",
      "Epoch 5/8\n",
      "30/30 [==============================] - 8s 277ms/step - loss: 1.3145e-06 - accuracy: 1.0000 - val_loss: 1.1399e-06 - val_accuracy: 1.0000\n",
      "Epoch 6/8\n",
      "30/30 [==============================] - 10s 347ms/step - loss: 5.4999e-06 - accuracy: 1.0000 - val_loss: 1.7919e-06 - val_accuracy: 1.0000\n",
      "Epoch 7/8\n",
      "30/30 [==============================] - 10s 349ms/step - loss: 1.7057e-05 - accuracy: 1.0000 - val_loss: 7.8340e-06 - val_accuracy: 1.0000\n",
      "Epoch 8/8\n",
      "30/30 [==============================] - 9s 316ms/step - loss: 2.6576e-06 - accuracy: 1.0000 - val_loss: 2.8572e-06 - val_accuracy: 1.0000\n"
     ]
    },
    {
     "data": {
      "text/plain": [
       "<keras.callbacks.callbacks.History at 0x7f20586fd278>"
      ]
     },
     "execution_count": 40,
     "metadata": {},
     "output_type": "execute_result"
    }
   ],
   "source": [
    "model.fit_generator(\n",
    "    train_generator,\n",
    "    steps_per_epoch=30,\n",
    "    epochs=8,\n",
    "    verbose=1,\n",
    "    validation_data=validation_generator,\n",
    "    validation_steps=30)"
   ]
  },
  {
   "cell_type": "markdown",
   "metadata": {},
   "source": [
    "## RNN"
   ]
  },
  {
   "cell_type": "code",
   "execution_count": 1,
   "metadata": {},
   "outputs": [
    {
     "data": {
      "text/html": [
       "<div>\n",
       "<style scoped>\n",
       "    .dataframe tbody tr th:only-of-type {\n",
       "        vertical-align: middle;\n",
       "    }\n",
       "\n",
       "    .dataframe tbody tr th {\n",
       "        vertical-align: top;\n",
       "    }\n",
       "\n",
       "    .dataframe thead th {\n",
       "        text-align: right;\n",
       "    }\n",
       "</style>\n",
       "<table border=\"1\" class=\"dataframe\">\n",
       "  <thead>\n",
       "    <tr style=\"text-align: right;\">\n",
       "      <th></th>\n",
       "      <th>Datetime</th>\n",
       "      <th>AEP_MW</th>\n",
       "    </tr>\n",
       "  </thead>\n",
       "  <tbody>\n",
       "    <tr>\n",
       "      <th>0</th>\n",
       "      <td>2004-12-31 01:00:00</td>\n",
       "      <td>13478.0</td>\n",
       "    </tr>\n",
       "    <tr>\n",
       "      <th>1</th>\n",
       "      <td>2004-12-31 02:00:00</td>\n",
       "      <td>12865.0</td>\n",
       "    </tr>\n",
       "    <tr>\n",
       "      <th>2</th>\n",
       "      <td>2004-12-31 03:00:00</td>\n",
       "      <td>12577.0</td>\n",
       "    </tr>\n",
       "    <tr>\n",
       "      <th>3</th>\n",
       "      <td>2004-12-31 04:00:00</td>\n",
       "      <td>12517.0</td>\n",
       "    </tr>\n",
       "    <tr>\n",
       "      <th>4</th>\n",
       "      <td>2004-12-31 05:00:00</td>\n",
       "      <td>12670.0</td>\n",
       "    </tr>\n",
       "    <tr>\n",
       "      <th>...</th>\n",
       "      <td>...</td>\n",
       "      <td>...</td>\n",
       "    </tr>\n",
       "    <tr>\n",
       "      <th>121268</th>\n",
       "      <td>2018-01-01 20:00:00</td>\n",
       "      <td>21089.0</td>\n",
       "    </tr>\n",
       "    <tr>\n",
       "      <th>121269</th>\n",
       "      <td>2018-01-01 21:00:00</td>\n",
       "      <td>20999.0</td>\n",
       "    </tr>\n",
       "    <tr>\n",
       "      <th>121270</th>\n",
       "      <td>2018-01-01 22:00:00</td>\n",
       "      <td>20820.0</td>\n",
       "    </tr>\n",
       "    <tr>\n",
       "      <th>121271</th>\n",
       "      <td>2018-01-01 23:00:00</td>\n",
       "      <td>20415.0</td>\n",
       "    </tr>\n",
       "    <tr>\n",
       "      <th>121272</th>\n",
       "      <td>2018-01-02 00:00:00</td>\n",
       "      <td>19993.0</td>\n",
       "    </tr>\n",
       "  </tbody>\n",
       "</table>\n",
       "<p>121273 rows × 2 columns</p>\n",
       "</div>"
      ],
      "text/plain": [
       "                   Datetime   AEP_MW\n",
       "0       2004-12-31 01:00:00  13478.0\n",
       "1       2004-12-31 02:00:00  12865.0\n",
       "2       2004-12-31 03:00:00  12577.0\n",
       "3       2004-12-31 04:00:00  12517.0\n",
       "4       2004-12-31 05:00:00  12670.0\n",
       "...                     ...      ...\n",
       "121268  2018-01-01 20:00:00  21089.0\n",
       "121269  2018-01-01 21:00:00  20999.0\n",
       "121270  2018-01-01 22:00:00  20820.0\n",
       "121271  2018-01-01 23:00:00  20415.0\n",
       "121272  2018-01-02 00:00:00  19993.0\n",
       "\n",
       "[121273 rows x 2 columns]"
      ]
     },
     "execution_count": 1,
     "metadata": {},
     "output_type": "execute_result"
    }
   ],
   "source": [
    "import pandas as pd\n",
    "\n",
    "data = pd.read_csv('hourly-energy-consumption/AEP_hourly.csv', encoding='windows-1252')\n",
    "\n",
    "data"
   ]
  },
  {
   "cell_type": "code",
   "execution_count": 36,
   "metadata": {},
   "outputs": [
    {
     "data": {
      "text/html": [
       "<div>\n",
       "<style scoped>\n",
       "    .dataframe tbody tr th:only-of-type {\n",
       "        vertical-align: middle;\n",
       "    }\n",
       "\n",
       "    .dataframe tbody tr th {\n",
       "        vertical-align: top;\n",
       "    }\n",
       "\n",
       "    .dataframe thead th {\n",
       "        text-align: right;\n",
       "    }\n",
       "</style>\n",
       "<table border=\"1\" class=\"dataframe\">\n",
       "  <thead>\n",
       "    <tr style=\"text-align: right;\">\n",
       "      <th></th>\n",
       "      <th>AEP_MW</th>\n",
       "    </tr>\n",
       "    <tr>\n",
       "      <th>Datetime</th>\n",
       "      <th></th>\n",
       "    </tr>\n",
       "  </thead>\n",
       "  <tbody>\n",
       "    <tr>\n",
       "      <th>2004-12-31 01:00:00</th>\n",
       "      <td>13478.0</td>\n",
       "    </tr>\n",
       "    <tr>\n",
       "      <th>2004-12-31 02:00:00</th>\n",
       "      <td>12865.0</td>\n",
       "    </tr>\n",
       "    <tr>\n",
       "      <th>2004-12-31 03:00:00</th>\n",
       "      <td>12577.0</td>\n",
       "    </tr>\n",
       "    <tr>\n",
       "      <th>2004-12-31 04:00:00</th>\n",
       "      <td>12517.0</td>\n",
       "    </tr>\n",
       "    <tr>\n",
       "      <th>2004-12-31 05:00:00</th>\n",
       "      <td>12670.0</td>\n",
       "    </tr>\n",
       "  </tbody>\n",
       "</table>\n",
       "</div>"
      ],
      "text/plain": [
       "                      AEP_MW\n",
       "Datetime                    \n",
       "2004-12-31 01:00:00  13478.0\n",
       "2004-12-31 02:00:00  12865.0\n",
       "2004-12-31 03:00:00  12577.0\n",
       "2004-12-31 04:00:00  12517.0\n",
       "2004-12-31 05:00:00  12670.0"
      ]
     },
     "execution_count": 36,
     "metadata": {},
     "output_type": "execute_result"
    }
   ],
   "source": [
    "df = pd.read_csv('hourly-energy-consumption/AEP_hourly.csv', index_col='Datetime', parse_dates=['Datetime'])\n",
    "df.head()"
   ]
  },
  {
   "cell_type": "code",
   "execution_count": 37,
   "metadata": {},
   "outputs": [
    {
     "data": {
      "text/plain": [
       "<matplotlib.axes._subplots.AxesSubplot at 0x7f910443d9b0>"
      ]
     },
     "execution_count": 37,
     "metadata": {},
     "output_type": "execute_result"
    },
    {
     "data": {
      "image/png": "[encoded data removed]",
      "text/plain": [
       "<Figure size 1152x288 with 1 Axes>"
      ]
     },
     "metadata": {
      "needs_background": "light"
     },
     "output_type": "display_data"
    }
   ],
   "source": [
    "df.plot(figsize=(16,4),legend=True)"
   ]
  },
  {
   "cell_type": "code",
   "execution_count": 40,
   "metadata": {},
   "outputs": [
    {
     "data": {
      "text/plain": [
       "(121273, 2)"
      ]
     },
     "execution_count": 40,
     "metadata": {},
     "output_type": "execute_result"
    }
   ],
   "source": [
    "from sklearn.preprocessing import MinMaxScaler\n",
    "\n",
    "def normalize_data(df):\n",
    "    scaler = MinMaxScaler()\n",
    "    df['AEP_MW']=scaler.fit_transform(df['AEP_MW'].values.reshape(-1,1))\n",
    "    return df\n",
    "\n",
    "df_norm = normalize_data(df)\n",
    "df_norm.shape"
   ]
  },
  {
   "cell_type": "code",
   "execution_count": 41,
   "metadata": {},
   "outputs": [
    {
     "data": {
      "text/plain": [
       "<matplotlib.axes._subplots.AxesSubplot at 0x7f91033e46a0>"
      ]
     },
     "execution_count": 41,
     "metadata": {},
     "output_type": "execute_result"
    },
    {
     "data": {
      "image/png": "[encoded data removed]",
      "text/plain": [
       "<Figure size 1152x288 with 1 Axes>"
      ]
     },
     "metadata": {
      "needs_background": "light"
     },
     "output_type": "display_data"
    }
   ],
   "source": [
    "df.plot(figsize=(16,4),legend=True)"
   ]
  },
  {
   "cell_type": "code",
   "execution_count": 42,
   "metadata": {},
   "outputs": [],
   "source": [
    "import numpy as np\n",
    "\n",
    "def load_data(stock, seq_len):\n",
    "    X_train = []\n",
    "    y_train = []\n",
    "    for i in range(seq_len, len(stock)):\n",
    "        X_train.append(stock.iloc[i-seq_len : i, 0])\n",
    "        y_train.append(stock.iloc[i, 0])\n",
    "    \n",
    "    X_test = X_train[110000:]             \n",
    "    y_test = y_train[110000:]\n",
    "    \n",
    "    X_train = X_train[:110000]           \n",
    "    y_train = y_train[:110000]\n",
    "    \n",
    "    X_train = np.array(X_train)\n",
    "    y_train = np.array(y_train)\n",
    "    \n",
    "    X_test = np.array(X_test)\n",
    "    y_test = np.array(y_test)\n",
    "    \n",
    "    X_train = np.reshape(X_train, (110000, seq_len, 1))\n",
    "    \n",
    "    X_test = np.reshape(X_test, (X_test.shape[0], seq_len, 1))\n",
    "    \n",
    "    return [X_train, y_train, X_test, y_test]"
   ]
  },
  {
   "cell_type": "code",
   "execution_count": 43,
   "metadata": {},
   "outputs": [
    {
     "name": "stdout",
     "output_type": "stream",
     "text": [
      "X_train.shape =  (110000, 20, 1)\n",
      "y_train.shape =  (110000,)\n",
      "X_test.shape =  (11253, 20, 1)\n",
      "y_test.shape =  (11253,)\n"
     ]
    }
   ],
   "source": [
    "seq_len = 20\n",
    "X_train, y_train, X_test, y_test = load_data(df, seq_len)\n",
    "\n",
    "print('X_train.shape = ',X_train.shape)\n",
    "print('y_train.shape = ', y_train.shape)\n",
    "print('X_test.shape = ', X_test.shape)\n",
    "print('y_test.shape = ',y_test.shape)"
   ]
  },
  {
   "cell_type": "code",
   "execution_count": 44,
   "metadata": {},
   "outputs": [
    {
     "name": "stdout",
     "output_type": "stream",
     "text": [
      "Model: \"sequential_5\"\n",
      "_________________________________________________________________\n",
      "Layer (type)                 Output Shape              Param #   \n",
      "=================================================================\n",
      "simple_rnn_10 (SimpleRNN)    (None, 20, 40)            1680      \n",
      "_________________________________________________________________\n",
      "dropout_10 (Dropout)         (None, 20, 40)            0         \n",
      "_________________________________________________________________\n",
      "simple_rnn_11 (SimpleRNN)    (None, 20, 40)            3240      \n",
      "_________________________________________________________________\n",
      "dropout_11 (Dropout)         (None, 20, 40)            0         \n",
      "_________________________________________________________________\n",
      "simple_rnn_12 (SimpleRNN)    (None, 40)                3240      \n",
      "_________________________________________________________________\n",
      "dropout_12 (Dropout)         (None, 40)                0         \n",
      "_________________________________________________________________\n",
      "dense_4 (Dense)              (None, 1)                 41        \n",
      "=================================================================\n",
      "Total params: 8,201\n",
      "Trainable params: 8,201\n",
      "Non-trainable params: 0\n",
      "_________________________________________________________________\n"
     ]
    }
   ],
   "source": [
    "from keras.layers import Dense,Dropout,SimpleRNN\n",
    "\n",
    "rnn_model = Sequential()\n",
    "\n",
    "rnn_model.add(SimpleRNN(40,activation=\"tanh\",return_sequences=True, input_shape=(X_train.shape[1],1)))\n",
    "rnn_model.add(Dropout(0.15))\n",
    "\n",
    "rnn_model.add(SimpleRNN(40,activation=\"tanh\",return_sequences=True))\n",
    "rnn_model.add(Dropout(0.15))\n",
    "\n",
    "rnn_model.add(SimpleRNN(40,activation=\"tanh\",return_sequences=False))\n",
    "rnn_model.add(Dropout(0.15))\n",
    "\n",
    "rnn_model.add(Dense(1))\n",
    "\n",
    "rnn_model.summary()"
   ]
  },
  {
   "cell_type": "code",
   "execution_count": 45,
   "metadata": {},
   "outputs": [
    {
     "name": "stdout",
     "output_type": "stream",
     "text": [
      "Epoch 1/10\n",
      "110000/110000 [==============================] - 7s 66us/step - loss: 0.1077\n",
      "Epoch 2/10\n",
      "110000/110000 [==============================] - 7s 60us/step - loss: 0.0213\n",
      "Epoch 3/10\n",
      "110000/110000 [==============================] - 7s 61us/step - loss: 0.0118\n",
      "Epoch 4/10\n",
      "110000/110000 [==============================] - 7s 60us/step - loss: 0.0082\n",
      "Epoch 5/10\n",
      "110000/110000 [==============================] - 7s 60us/step - loss: 0.0063\n",
      "Epoch 6/10\n",
      "110000/110000 [==============================] - 7s 60us/step - loss: 0.0052\n",
      "Epoch 7/10\n",
      "110000/110000 [==============================] - 7s 64us/step - loss: 0.0044\n",
      "Epoch 8/10\n",
      "110000/110000 [==============================] - 7s 64us/step - loss: 0.0038\n",
      "Epoch 9/10\n",
      "110000/110000 [==============================] - 7s 65us/step - loss: 0.0034\n",
      "Epoch 10/10\n",
      "110000/110000 [==============================] - 7s 65us/step - loss: 0.0031\n"
     ]
    },
    {
     "data": {
      "text/plain": [
       "<keras.callbacks.callbacks.History at 0x7f9102eede10>"
      ]
     },
     "execution_count": 45,
     "metadata": {},
     "output_type": "execute_result"
    }
   ],
   "source": [
    "rnn_model.compile(optimizer=\"adam\",loss=\"MSE\")\n",
    "rnn_model.fit(X_train, y_train, epochs=10, batch_size=1000)"
   ]
  },
  {
   "cell_type": "code",
   "execution_count": 46,
   "metadata": {},
   "outputs": [
    {
     "name": "stdout",
     "output_type": "stream",
     "text": [
      "R2 Score of RNN model =  0.9659450721913114\n"
     ]
    }
   ],
   "source": [
    "\n",
    "from sklearn.metrics import r2_score\n",
    "\n",
    "\n",
    "rnn_predictions = rnn_model.predict(X_test)\n",
    "\n",
    "rnn_score = r2_score(y_test,rnn_predictions)\n",
    "print(\"R2 Score of RNN model = \",rnn_score)"
   ]
  },
  {
   "cell_type": "code",
   "execution_count": 47,
   "metadata": {},
   "outputs": [
    {
     "name": "stdout",
     "output_type": "stream",
     "text": [
      "Populating the interactive namespace from numpy and matplotlib\n"
     ]
    },
    {
     "data": {
      "image/png": "[encoded data removed]",
      "text/plain": [
       "<Figure size 1152x288 with 1 Axes>"
      ]
     },
     "metadata": {
      "needs_background": "light"
     },
     "output_type": "display_data"
    }
   ],
   "source": [
    "\n",
    "%pylab inline\n",
    "\n",
    "def plot_predictions(test, predicted, title):\n",
    "    plt.figure(figsize=(16,4))\n",
    "    plt.plot(test, color='blue',label='Actual')\n",
    "    plt.plot(predicted, alpha=0.7, color='orange',label='Predicted')\n",
    "    plt.title(title)\n",
    "    plt.legend()\n",
    "    plt.show()\n",
    "    \n",
    "plot_predictions(y_test, rnn_predictions, \"Predictions made by simple RNN model\")"
   ]
  },
  {
   "cell_type": "code",
   "execution_count": 29,
   "metadata": {},
   "outputs": [],
   "source": [
    "from keras.layers import Dense, Dropout, LSTM, Embedding\n",
    "\n",
    "model = Sequential()\n",
    "model.add(Embedding(4, 128))\n",
    "model.add(LSTM(128, activation='relu', return_sequences=True))\n",
    "model.add(Dropout(0.2))\n",
    "\n",
    "#model.add(LSTM(128, activation='relu'))\n",
    "#model.add(Dropout(0.1))\n",
    "\n",
    "model.add(Dense(32, activation='relu'))\n",
    "model.add(Dropout(0.2))\n",
    "\n",
    "model.add(Dense(1, activation='softmax'))\n",
    "\n"
   ]
  },
  {
   "cell_type": "code",
   "execution_count": 30,
   "metadata": {},
   "outputs": [
    {
     "ename": "ValueError",
     "evalue": "Error when checking target: expected dense_8 to have 3 dimensions, but got array with shape (107377, 1)",
     "output_type": "error",
     "traceback": [
      "\u001b[0;31m---------------------------------------------------------------------------\u001b[0m",
      "\u001b[0;31mValueError\u001b[0m                                Traceback (most recent call last)",
      "\u001b[0;32m<ipython-input-30-4e68bcb8e9ec>\u001b[0m in \u001b[0;36m<module>\u001b[0;34m\u001b[0m\n\u001b[1;32m     12\u001b[0m           \u001b[0mepochs\u001b[0m\u001b[0;34m=\u001b[0m\u001b[0;36m3\u001b[0m\u001b[0;34m,\u001b[0m\u001b[0;34m\u001b[0m\u001b[0;34m\u001b[0m\u001b[0m\n\u001b[1;32m     13\u001b[0m           \u001b[0mverbose\u001b[0m\u001b[0;34m=\u001b[0m\u001b[0;36m1\u001b[0m\u001b[0;34m,\u001b[0m\u001b[0;34m\u001b[0m\u001b[0;34m\u001b[0m\u001b[0m\n\u001b[0;32m---> 14\u001b[0;31m           validation_data=(x_test, y_test))\n\u001b[0m",
      "\u001b[0;32m~/.local/lib/python3.6/site-packages/keras/engine/training.py\u001b[0m in \u001b[0;36mfit\u001b[0;34m(self, x, y, batch_size, epochs, verbose, callbacks, validation_split, validation_data, shuffle, class_weight, sample_weight, initial_epoch, steps_per_epoch, validation_steps, validation_freq, max_queue_size, workers, use_multiprocessing, **kwargs)\u001b[0m\n\u001b[1;32m   1152\u001b[0m             \u001b[0msample_weight\u001b[0m\u001b[0;34m=\u001b[0m\u001b[0msample_weight\u001b[0m\u001b[0;34m,\u001b[0m\u001b[0;34m\u001b[0m\u001b[0;34m\u001b[0m\u001b[0m\n\u001b[1;32m   1153\u001b[0m             \u001b[0mclass_weight\u001b[0m\u001b[0;34m=\u001b[0m\u001b[0mclass_weight\u001b[0m\u001b[0;34m,\u001b[0m\u001b[0;34m\u001b[0m\u001b[0;34m\u001b[0m\u001b[0m\n\u001b[0;32m-> 1154\u001b[0;31m             batch_size=batch_size)\n\u001b[0m\u001b[1;32m   1155\u001b[0m \u001b[0;34m\u001b[0m\u001b[0m\n\u001b[1;32m   1156\u001b[0m         \u001b[0;31m# Prepare validation data.\u001b[0m\u001b[0;34m\u001b[0m\u001b[0;34m\u001b[0m\u001b[0;34m\u001b[0m\u001b[0m\n",
      "\u001b[0;32m~/.local/lib/python3.6/site-packages/keras/engine/training.py\u001b[0m in \u001b[0;36m_standardize_user_data\u001b[0;34m(self, x, y, sample_weight, class_weight, check_array_lengths, batch_size)\u001b[0m\n\u001b[1;32m    619\u001b[0m                 \u001b[0mfeed_output_shapes\u001b[0m\u001b[0;34m,\u001b[0m\u001b[0;34m\u001b[0m\u001b[0;34m\u001b[0m\u001b[0m\n\u001b[1;32m    620\u001b[0m                 \u001b[0mcheck_batch_axis\u001b[0m\u001b[0;34m=\u001b[0m\u001b[0;32mFalse\u001b[0m\u001b[0;34m,\u001b[0m  \u001b[0;31m# Don't enforce the batch size.\u001b[0m\u001b[0;34m\u001b[0m\u001b[0;34m\u001b[0m\u001b[0m\n\u001b[0;32m--> 621\u001b[0;31m                 exception_prefix='target')\n\u001b[0m\u001b[1;32m    622\u001b[0m \u001b[0;34m\u001b[0m\u001b[0m\n\u001b[1;32m    623\u001b[0m             \u001b[0;31m# Generate sample-wise weight values given the `sample_weight` and\u001b[0m\u001b[0;34m\u001b[0m\u001b[0;34m\u001b[0m\u001b[0;34m\u001b[0m\u001b[0m\n",
      "\u001b[0;32m~/.local/lib/python3.6/site-packages/keras/engine/training_utils.py\u001b[0m in \u001b[0;36mstandardize_input_data\u001b[0;34m(data, names, shapes, check_batch_axis, exception_prefix)\u001b[0m\n\u001b[1;32m    133\u001b[0m                         \u001b[0;34m': expected '\u001b[0m \u001b[0;34m+\u001b[0m \u001b[0mnames\u001b[0m\u001b[0;34m[\u001b[0m\u001b[0mi\u001b[0m\u001b[0;34m]\u001b[0m \u001b[0;34m+\u001b[0m \u001b[0;34m' to have '\u001b[0m \u001b[0;34m+\u001b[0m\u001b[0;34m\u001b[0m\u001b[0;34m\u001b[0m\u001b[0m\n\u001b[1;32m    134\u001b[0m                         \u001b[0mstr\u001b[0m\u001b[0;34m(\u001b[0m\u001b[0mlen\u001b[0m\u001b[0;34m(\u001b[0m\u001b[0mshape\u001b[0m\u001b[0;34m)\u001b[0m\u001b[0;34m)\u001b[0m \u001b[0;34m+\u001b[0m \u001b[0;34m' dimensions, but got array '\u001b[0m\u001b[0;34m\u001b[0m\u001b[0;34m\u001b[0m\u001b[0m\n\u001b[0;32m--> 135\u001b[0;31m                         'with shape ' + str(data_shape))\n\u001b[0m\u001b[1;32m    136\u001b[0m                 \u001b[0;32mif\u001b[0m \u001b[0;32mnot\u001b[0m \u001b[0mcheck_batch_axis\u001b[0m\u001b[0;34m:\u001b[0m\u001b[0;34m\u001b[0m\u001b[0;34m\u001b[0m\u001b[0m\n\u001b[1;32m    137\u001b[0m                     \u001b[0mdata_shape\u001b[0m \u001b[0;34m=\u001b[0m \u001b[0mdata_shape\u001b[0m\u001b[0;34m[\u001b[0m\u001b[0;36m1\u001b[0m\u001b[0;34m:\u001b[0m\u001b[0;34m]\u001b[0m\u001b[0;34m\u001b[0m\u001b[0;34m\u001b[0m\u001b[0m\n",
      "\u001b[0;31mValueError\u001b[0m: Error when checking target: expected dense_8 to have 3 dimensions, but got array with shape (107377, 1)"
     ]
    }
   ],
   "source": [
    "from keras.optimizers import Adam\n",
    "\n",
    "opt = Adam(lr=0.001, decay=1e-6)\n",
    "\n",
    "model.compile(\n",
    "    loss='sparse_categorical_crossentropy',\n",
    "    optimizer=opt,\n",
    "    metrics=['accuracy'],\n",
    ")\n",
    "\n",
    "model.fit(x_train,y_train,\n",
    "          epochs=3,\n",
    "          verbose=1,\n",
    "          validation_data=(x_test, y_test))"
   ]
  },
  {
   "cell_type": "code",
   "execution_count": 2,
   "metadata": {},
   "outputs": [],
   "source": [
    "test_data = data[(data['Datetime'] > '2017-01-01') & (data['Datetime'] < '2018-01-01')]\n",
    "train_data = data[(data['Datetime'] < '2017-01-01')]"
   ]
  },
  {
   "cell_type": "code",
   "execution_count": 3,
   "metadata": {},
   "outputs": [],
   "source": [
    "def make_features(df):\n",
    "    df['Datetime'] = pd.to_datetime(df['Datetime'])\n",
    "    df['year'] = df['Datetime'].dt.year\n",
    "    df['month'] = df['Datetime'].dt.month\n",
    "    df['day'] = df['Datetime'].dt.day\n",
    "    df['hour'] = df['Datetime'].dt.hour\n",
    "    return df.drop(columns=['Datetime'])\n",
    "\n",
    "x_test = make_features(test_data)\n",
    "x_train = make_features(train_data)\n",
    "\n",
    "y_train = x_train['AEP_MW']\n",
    "y_test = x_test['AEP_MW']\n",
    "\n",
    "x_train = x_train.drop(columns=['AEP_MW'])\n",
    "x_test = x_test.drop(columns=['AEP_MW'])\n",
    "\n",
    "print(x_train.shape)"
   ]
  }
 ],
 "metadata": {
  "kernelspec": {
   "display_name": "Python 2",
   "language": "python",
   "name": "python2"
  },
  "language_info": {
   "codemirror_mode": {
    "name": "ipython",
    "version": 3
   },
   "file_extension": ".py",
   "mimetype": "text/x-python",
   "name": "python",
   "nbconvert_exporter": "python",
   "pygments_lexer": "ipython3",
   "version": "3.6.8"
  }
 },
 "nbformat": 4,
 "nbformat_minor": 2
}
