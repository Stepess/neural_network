{
 "cells": [
  {
   "cell_type": "markdown",
   "metadata": {},
   "source": [
    "# Neural Netwoks"
   ]
  },
  {
   "cell_type": "markdown",
   "metadata": {},
   "source": [
    "# Data fetch"
   ]
  },
  {
   "cell_type": "code",
   "execution_count": 1,
   "metadata": {},
   "outputs": [],
   "source": [
    "import pandas as pd"
   ]
  },
  {
   "cell_type": "code",
   "execution_count": 2,
   "metadata": {},
   "outputs": [
    {
     "data": {
      "text/html": [
       "<div>\n",
       "<style scoped>\n",
       "    .dataframe tbody tr th:only-of-type {\n",
       "        vertical-align: middle;\n",
       "    }\n",
       "\n",
       "    .dataframe tbody tr th {\n",
       "        vertical-align: top;\n",
       "    }\n",
       "\n",
       "    .dataframe thead th {\n",
       "        text-align: right;\n",
       "    }\n",
       "</style>\n",
       "<table border=\"1\" class=\"dataframe\">\n",
       "  <thead>\n",
       "    <tr style=\"text-align: right;\">\n",
       "      <th></th>\n",
       "      <th>Cultivars</th>\n",
       "      <th>Alcohol</th>\n",
       "      <th>Malic_acid</th>\n",
       "      <th>Ash</th>\n",
       "      <th>Alcalinity_of_ash</th>\n",
       "      <th>Magnesium</th>\n",
       "      <th>Total_phenols</th>\n",
       "      <th>Flavanoids</th>\n",
       "      <th>Nonflavanoid_phenols</th>\n",
       "      <th>Proanthocyanins</th>\n",
       "      <th>Color_intensity</th>\n",
       "      <th>Hue</th>\n",
       "      <th>OD280/OD315_of_diluted_wines</th>\n",
       "      <th>Proline</th>\n",
       "    </tr>\n",
       "  </thead>\n",
       "  <tbody>\n",
       "    <tr>\n",
       "      <th>0</th>\n",
       "      <td>1</td>\n",
       "      <td>14.23</td>\n",
       "      <td>1.71</td>\n",
       "      <td>2.43</td>\n",
       "      <td>15.6</td>\n",
       "      <td>127</td>\n",
       "      <td>2.80</td>\n",
       "      <td>3.06</td>\n",
       "      <td>0.28</td>\n",
       "      <td>2.29</td>\n",
       "      <td>5.64</td>\n",
       "      <td>1.04</td>\n",
       "      <td>3.92</td>\n",
       "      <td>1065</td>\n",
       "    </tr>\n",
       "    <tr>\n",
       "      <th>1</th>\n",
       "      <td>1</td>\n",
       "      <td>13.20</td>\n",
       "      <td>1.78</td>\n",
       "      <td>2.14</td>\n",
       "      <td>11.2</td>\n",
       "      <td>100</td>\n",
       "      <td>2.65</td>\n",
       "      <td>2.76</td>\n",
       "      <td>0.26</td>\n",
       "      <td>1.28</td>\n",
       "      <td>4.38</td>\n",
       "      <td>1.05</td>\n",
       "      <td>3.40</td>\n",
       "      <td>1050</td>\n",
       "    </tr>\n",
       "    <tr>\n",
       "      <th>2</th>\n",
       "      <td>1</td>\n",
       "      <td>13.16</td>\n",
       "      <td>2.36</td>\n",
       "      <td>2.67</td>\n",
       "      <td>18.6</td>\n",
       "      <td>101</td>\n",
       "      <td>2.80</td>\n",
       "      <td>3.24</td>\n",
       "      <td>0.30</td>\n",
       "      <td>2.81</td>\n",
       "      <td>5.68</td>\n",
       "      <td>1.03</td>\n",
       "      <td>3.17</td>\n",
       "      <td>1185</td>\n",
       "    </tr>\n",
       "    <tr>\n",
       "      <th>3</th>\n",
       "      <td>1</td>\n",
       "      <td>14.37</td>\n",
       "      <td>1.95</td>\n",
       "      <td>2.50</td>\n",
       "      <td>16.8</td>\n",
       "      <td>113</td>\n",
       "      <td>3.85</td>\n",
       "      <td>3.49</td>\n",
       "      <td>0.24</td>\n",
       "      <td>2.18</td>\n",
       "      <td>7.80</td>\n",
       "      <td>0.86</td>\n",
       "      <td>3.45</td>\n",
       "      <td>1480</td>\n",
       "    </tr>\n",
       "    <tr>\n",
       "      <th>4</th>\n",
       "      <td>1</td>\n",
       "      <td>13.24</td>\n",
       "      <td>2.59</td>\n",
       "      <td>2.87</td>\n",
       "      <td>21.0</td>\n",
       "      <td>118</td>\n",
       "      <td>2.80</td>\n",
       "      <td>2.69</td>\n",
       "      <td>0.39</td>\n",
       "      <td>1.82</td>\n",
       "      <td>4.32</td>\n",
       "      <td>1.04</td>\n",
       "      <td>2.93</td>\n",
       "      <td>735</td>\n",
       "    </tr>\n",
       "  </tbody>\n",
       "</table>\n",
       "</div>"
      ],
      "text/plain": [
       "   Cultivars  Alcohol  Malic_acid   Ash  Alcalinity_of_ash  Magnesium  \\\n",
       "0          1    14.23        1.71  2.43               15.6        127   \n",
       "1          1    13.20        1.78  2.14               11.2        100   \n",
       "2          1    13.16        2.36  2.67               18.6        101   \n",
       "3          1    14.37        1.95  2.50               16.8        113   \n",
       "4          1    13.24        2.59  2.87               21.0        118   \n",
       "\n",
       "   Total_phenols  Flavanoids  Nonflavanoid_phenols  Proanthocyanins  \\\n",
       "0           2.80        3.06                  0.28             2.29   \n",
       "1           2.65        2.76                  0.26             1.28   \n",
       "2           2.80        3.24                  0.30             2.81   \n",
       "3           3.85        3.49                  0.24             2.18   \n",
       "4           2.80        2.69                  0.39             1.82   \n",
       "\n",
       "   Color_intensity   Hue  OD280/OD315_of_diluted_wines  Proline  \n",
       "0             5.64  1.04                          3.92     1065  \n",
       "1             4.38  1.05                          3.40     1050  \n",
       "2             5.68  1.03                          3.17     1185  \n",
       "3             7.80  0.86                          3.45     1480  \n",
       "4             4.32  1.04                          2.93      735  "
      ]
     },
     "execution_count": 2,
     "metadata": {},
     "output_type": "execute_result"
    }
   ],
   "source": [
    "class_name = 'Cultivars'\n",
    "\n",
    "feature_cols = [\n",
    "        'Alcohol',\n",
    "        'Malic_acid',\n",
    "        'Ash',\n",
    "        'Alcalinity_of_ash',\n",
    "        'Magnesium',\n",
    "        'Total_phenols',\n",
    "        'Flavanoids',\n",
    "        'Nonflavanoid_phenols',\n",
    "        'Proanthocyanins',\n",
    "        'Color_intensity',\n",
    "        'Hue',\n",
    "        'OD280/OD315_of_diluted_wines',\n",
    "        'Proline'\n",
    "    ]\n",
    "\n",
    "cols = feature_cols.copy()\n",
    "cols.insert(0, class_name)\n",
    "\n",
    "df = pd.read_csv('http://archive.ics.uci.edu/ml/machine-learning-databases/wine/wine.data', \n",
    "                 header=None, names=cols)\n",
    "\n",
    "features = df.drop(class_name, axis=1)\n",
    "target = df[class_name]\n",
    "\n",
    "df.head()"
   ]
  },
  {
   "cell_type": "code",
   "execution_count": 3,
   "metadata": {},
   "outputs": [
    {
     "name": "stderr",
     "output_type": "stream",
     "text": [
      "Using TensorFlow backend.\n"
     ]
    }
   ],
   "source": [
    "import warnings\n",
    "warnings.filterwarnings('ignore')\n",
    "import keras\n",
    "from keras.layers import Dense\n",
    "from keras.models import Sequential\n",
    "\n",
    "batch_size = 60\n",
    "num_classes = 3\n",
    "epochs = 150\n",
    "input_dim = len(feature_cols) "
   ]
  },
  {
   "cell_type": "code",
   "execution_count": 28,
   "metadata": {},
   "outputs": [],
   "source": [
    "from sklearn.model_selection import train_test_split\n",
    "from sklearn.preprocessing import StandardScaler\n",
    "\n",
    "scaler = StandardScaler()\n",
    "scaled_features = scaler.fit_transform(features)\n",
    "\n",
    "x_train, x_test, y_train, y_test = train_test_split(scaled_features, target, test_size=0.3)\n",
    "\n",
    "# convert class vectors to binary class matrices\n",
    "y_train = keras.utils.to_categorical([x-1 for x in y_train.iloc[:].values], num_classes)\n",
    "y_test = keras.utils.to_categorical([x-1 for x in y_test.iloc[:].values], num_classes)"
   ]
  },
  {
   "cell_type": "markdown",
   "metadata": {},
   "source": [
    "# MLP"
   ]
  },
  {
   "cell_type": "code",
   "execution_count": 29,
   "metadata": {},
   "outputs": [
    {
     "name": "stdout",
     "output_type": "stream",
     "text": [
      "Model: \"sequential_5\"\n",
      "_________________________________________________________________\n",
      "Layer (type)                 Output Shape              Param #   \n",
      "=================================================================\n",
      "dense_10 (Dense)             (None, 8)                 112       \n",
      "_________________________________________________________________\n",
      "dense_11 (Dense)             (None, 8)                 72        \n",
      "_________________________________________________________________\n",
      "dense_12 (Dense)             (None, 3)                 27        \n",
      "=================================================================\n",
      "Total params: 211\n",
      "Trainable params: 211\n",
      "Non-trainable params: 0\n",
      "_________________________________________________________________\n"
     ]
    }
   ],
   "source": [
    "mlp_model = Sequential()\n",
    "mlp_model.add(Dense(8, activation='relu', input_shape=(input_dim,)))\n",
    "mlp_model.add(Dense(8, activation='relu'))\n",
    "mlp_model.add(Dense(num_classes, activation='softmax'))\n",
    "\n",
    "mlp_model.summary()\n",
    "\n",
    "mlp_model.compile(loss='categorical_crossentropy',\n",
    "              optimizer='adam',\n",
    "              metrics=['accuracy'])"
   ]
  },
  {
   "cell_type": "code",
   "execution_count": 30,
   "metadata": {},
   "outputs": [
    {
     "name": "stdout",
     "output_type": "stream",
     "text": [
      "Train on 124 samples, validate on 54 samples\n",
      "Epoch 1/150\n",
      "124/124 [==============================] - 0s 1ms/step - loss: 1.1994 - accuracy: 0.2016 - val_loss: 1.1383 - val_accuracy: 0.2778\n",
      "Epoch 2/150\n",
      "124/124 [==============================] - 0s 64us/step - loss: 1.1782 - accuracy: 0.2258 - val_loss: 1.1263 - val_accuracy: 0.2778\n",
      "Epoch 3/150\n",
      "124/124 [==============================] - 0s 96us/step - loss: 1.1583 - accuracy: 0.2339 - val_loss: 1.1155 - val_accuracy: 0.2778\n",
      "Epoch 4/150\n",
      "124/124 [==============================] - 0s 108us/step - loss: 1.1405 - accuracy: 0.2177 - val_loss: 1.1051 - val_accuracy: 0.2778\n",
      "Epoch 5/150\n",
      "124/124 [==============================] - 0s 135us/step - loss: 1.1238 - accuracy: 0.2500 - val_loss: 1.0947 - val_accuracy: 0.2778\n",
      "Epoch 6/150\n",
      "124/124 [==============================] - 0s 164us/step - loss: 1.1082 - accuracy: 0.2661 - val_loss: 1.0847 - val_accuracy: 0.2778\n",
      "Epoch 7/150\n",
      "124/124 [==============================] - 0s 98us/step - loss: 1.0941 - accuracy: 0.2984 - val_loss: 1.0749 - val_accuracy: 0.3148\n",
      "Epoch 8/150\n",
      "124/124 [==============================] - 0s 133us/step - loss: 1.0802 - accuracy: 0.3306 - val_loss: 1.0658 - val_accuracy: 0.3148\n",
      "Epoch 9/150\n",
      "124/124 [==============================] - 0s 158us/step - loss: 1.0670 - accuracy: 0.3468 - val_loss: 1.0572 - val_accuracy: 0.3148\n",
      "Epoch 10/150\n",
      "124/124 [==============================] - 0s 146us/step - loss: 1.0531 - accuracy: 0.3548 - val_loss: 1.0488 - val_accuracy: 0.3333\n",
      "Epoch 11/150\n",
      "124/124 [==============================] - 0s 129us/step - loss: 1.0401 - accuracy: 0.3790 - val_loss: 1.0407 - val_accuracy: 0.3333\n",
      "Epoch 12/150\n",
      "124/124 [==============================] - 0s 151us/step - loss: 1.0271 - accuracy: 0.3952 - val_loss: 1.0331 - val_accuracy: 0.3333\n",
      "Epoch 13/150\n",
      "124/124 [==============================] - 0s 171us/step - loss: 1.0140 - accuracy: 0.4194 - val_loss: 1.0258 - val_accuracy: 0.3333\n",
      "Epoch 14/150\n",
      "124/124 [==============================] - 0s 99us/step - loss: 1.0020 - accuracy: 0.4355 - val_loss: 1.0188 - val_accuracy: 0.3333\n",
      "Epoch 15/150\n",
      "124/124 [==============================] - 0s 120us/step - loss: 0.9894 - accuracy: 0.4355 - val_loss: 1.0114 - val_accuracy: 0.3333\n",
      "Epoch 16/150\n",
      "124/124 [==============================] - 0s 109us/step - loss: 0.9781 - accuracy: 0.4435 - val_loss: 1.0042 - val_accuracy: 0.3519\n",
      "Epoch 17/150\n",
      "124/124 [==============================] - 0s 137us/step - loss: 0.9673 - accuracy: 0.4435 - val_loss: 0.9971 - val_accuracy: 0.3704\n",
      "Epoch 18/150\n",
      "124/124 [==============================] - 0s 128us/step - loss: 0.9568 - accuracy: 0.4758 - val_loss: 0.9901 - val_accuracy: 0.3704\n",
      "Epoch 19/150\n",
      "124/124 [==============================] - 0s 115us/step - loss: 0.9467 - accuracy: 0.4839 - val_loss: 0.9828 - val_accuracy: 0.3889\n",
      "Epoch 20/150\n",
      "124/124 [==============================] - 0s 144us/step - loss: 0.9363 - accuracy: 0.4919 - val_loss: 0.9756 - val_accuracy: 0.3889\n",
      "Epoch 21/150\n",
      "124/124 [==============================] - 0s 102us/step - loss: 0.9260 - accuracy: 0.5000 - val_loss: 0.9686 - val_accuracy: 0.3889\n",
      "Epoch 22/150\n",
      "124/124 [==============================] - 0s 177us/step - loss: 0.9159 - accuracy: 0.5403 - val_loss: 0.9622 - val_accuracy: 0.3704\n",
      "Epoch 23/150\n",
      "124/124 [==============================] - 0s 125us/step - loss: 0.9059 - accuracy: 0.5484 - val_loss: 0.9560 - val_accuracy: 0.3704\n",
      "Epoch 24/150\n",
      "124/124 [==============================] - 0s 144us/step - loss: 0.8959 - accuracy: 0.5806 - val_loss: 0.9499 - val_accuracy: 0.3704\n",
      "Epoch 25/150\n",
      "124/124 [==============================] - 0s 103us/step - loss: 0.8856 - accuracy: 0.6048 - val_loss: 0.9436 - val_accuracy: 0.3704\n",
      "Epoch 26/150\n",
      "124/124 [==============================] - 0s 139us/step - loss: 0.8761 - accuracy: 0.6290 - val_loss: 0.9372 - val_accuracy: 0.4074\n",
      "Epoch 27/150\n",
      "124/124 [==============================] - 0s 92us/step - loss: 0.8659 - accuracy: 0.6371 - val_loss: 0.9308 - val_accuracy: 0.3889\n",
      "Epoch 28/150\n",
      "124/124 [==============================] - 0s 139us/step - loss: 0.8564 - accuracy: 0.6694 - val_loss: 0.9244 - val_accuracy: 0.3889\n",
      "Epoch 29/150\n",
      "124/124 [==============================] - 0s 136us/step - loss: 0.8463 - accuracy: 0.6855 - val_loss: 0.9179 - val_accuracy: 0.3889\n",
      "Epoch 30/150\n",
      "124/124 [==============================] - 0s 124us/step - loss: 0.8364 - accuracy: 0.7177 - val_loss: 0.9114 - val_accuracy: 0.4074\n",
      "Epoch 31/150\n",
      "124/124 [==============================] - 0s 139us/step - loss: 0.8268 - accuracy: 0.7419 - val_loss: 0.9049 - val_accuracy: 0.4259\n",
      "Epoch 32/150\n",
      "124/124 [==============================] - 0s 111us/step - loss: 0.8172 - accuracy: 0.7419 - val_loss: 0.8986 - val_accuracy: 0.4259\n",
      "Epoch 33/150\n",
      "124/124 [==============================] - 0s 138us/step - loss: 0.8079 - accuracy: 0.7419 - val_loss: 0.8921 - val_accuracy: 0.4630\n",
      "Epoch 34/150\n",
      "124/124 [==============================] - 0s 112us/step - loss: 0.7981 - accuracy: 0.7500 - val_loss: 0.8849 - val_accuracy: 0.4815\n",
      "Epoch 35/150\n",
      "124/124 [==============================] - 0s 74us/step - loss: 0.7879 - accuracy: 0.7581 - val_loss: 0.8774 - val_accuracy: 0.4815\n",
      "Epoch 36/150\n",
      "124/124 [==============================] - 0s 138us/step - loss: 0.7772 - accuracy: 0.7581 - val_loss: 0.8696 - val_accuracy: 0.5000\n",
      "Epoch 37/150\n",
      "124/124 [==============================] - 0s 84us/step - loss: 0.7662 - accuracy: 0.7823 - val_loss: 0.8613 - val_accuracy: 0.5000\n",
      "Epoch 38/150\n",
      "124/124 [==============================] - 0s 111us/step - loss: 0.7551 - accuracy: 0.7823 - val_loss: 0.8531 - val_accuracy: 0.5185\n",
      "Epoch 39/150\n",
      "124/124 [==============================] - 0s 83us/step - loss: 0.7443 - accuracy: 0.7984 - val_loss: 0.8441 - val_accuracy: 0.5370\n",
      "Epoch 40/150\n",
      "124/124 [==============================] - 0s 79us/step - loss: 0.7336 - accuracy: 0.8145 - val_loss: 0.8345 - val_accuracy: 0.5926\n",
      "Epoch 41/150\n",
      "124/124 [==============================] - 0s 80us/step - loss: 0.7232 - accuracy: 0.8226 - val_loss: 0.8250 - val_accuracy: 0.6111\n",
      "Epoch 42/150\n",
      "124/124 [==============================] - 0s 107us/step - loss: 0.7125 - accuracy: 0.8387 - val_loss: 0.8151 - val_accuracy: 0.6111\n",
      "Epoch 43/150\n",
      "124/124 [==============================] - 0s 115us/step - loss: 0.7015 - accuracy: 0.8468 - val_loss: 0.8052 - val_accuracy: 0.6111\n",
      "Epoch 44/150\n",
      "124/124 [==============================] - 0s 101us/step - loss: 0.6908 - accuracy: 0.8548 - val_loss: 0.7954 - val_accuracy: 0.6296\n",
      "Epoch 45/150\n",
      "124/124 [==============================] - 0s 120us/step - loss: 0.6802 - accuracy: 0.8710 - val_loss: 0.7859 - val_accuracy: 0.6667\n",
      "Epoch 46/150\n",
      "124/124 [==============================] - 0s 100us/step - loss: 0.6699 - accuracy: 0.8790 - val_loss: 0.7764 - val_accuracy: 0.6852\n",
      "Epoch 47/150\n",
      "124/124 [==============================] - 0s 128us/step - loss: 0.6595 - accuracy: 0.8871 - val_loss: 0.7672 - val_accuracy: 0.7037\n",
      "Epoch 48/150\n",
      "124/124 [==============================] - 0s 142us/step - loss: 0.6492 - accuracy: 0.8952 - val_loss: 0.7586 - val_accuracy: 0.7222\n",
      "Epoch 49/150\n",
      "124/124 [==============================] - 0s 98us/step - loss: 0.6388 - accuracy: 0.8952 - val_loss: 0.7503 - val_accuracy: 0.7222\n",
      "Epoch 50/150\n",
      "124/124 [==============================] - 0s 141us/step - loss: 0.6285 - accuracy: 0.8952 - val_loss: 0.7420 - val_accuracy: 0.7222\n",
      "Epoch 51/150\n",
      "124/124 [==============================] - 0s 121us/step - loss: 0.6185 - accuracy: 0.9032 - val_loss: 0.7336 - val_accuracy: 0.7222\n",
      "Epoch 52/150\n",
      "124/124 [==============================] - 0s 134us/step - loss: 0.6082 - accuracy: 0.9113 - val_loss: 0.7256 - val_accuracy: 0.7593\n",
      "Epoch 53/150\n",
      "124/124 [==============================] - 0s 104us/step - loss: 0.5977 - accuracy: 0.9274 - val_loss: 0.7177 - val_accuracy: 0.7593\n",
      "Epoch 54/150\n",
      "124/124 [==============================] - 0s 85us/step - loss: 0.5873 - accuracy: 0.9274 - val_loss: 0.7095 - val_accuracy: 0.7778\n",
      "Epoch 55/150\n",
      "124/124 [==============================] - 0s 211us/step - loss: 0.5770 - accuracy: 0.9274 - val_loss: 0.7008 - val_accuracy: 0.7778\n",
      "Epoch 56/150\n",
      "124/124 [==============================] - 0s 128us/step - loss: 0.5665 - accuracy: 0.9274 - val_loss: 0.6913 - val_accuracy: 0.7778\n"
     ]
    },
    {
     "name": "stdout",
     "output_type": "stream",
     "text": [
      "Epoch 57/150\n",
      "124/124 [==============================] - 0s 138us/step - loss: 0.5561 - accuracy: 0.9274 - val_loss: 0.6816 - val_accuracy: 0.7778\n",
      "Epoch 58/150\n",
      "124/124 [==============================] - 0s 106us/step - loss: 0.5460 - accuracy: 0.9355 - val_loss: 0.6716 - val_accuracy: 0.7963\n",
      "Epoch 59/150\n",
      "124/124 [==============================] - 0s 64us/step - loss: 0.5367 - accuracy: 0.9435 - val_loss: 0.6620 - val_accuracy: 0.7963\n",
      "Epoch 60/150\n",
      "124/124 [==============================] - 0s 71us/step - loss: 0.5271 - accuracy: 0.9435 - val_loss: 0.6530 - val_accuracy: 0.8148\n",
      "Epoch 61/150\n",
      "124/124 [==============================] - 0s 83us/step - loss: 0.5177 - accuracy: 0.9435 - val_loss: 0.6440 - val_accuracy: 0.8333\n",
      "Epoch 62/150\n",
      "124/124 [==============================] - 0s 97us/step - loss: 0.5083 - accuracy: 0.9435 - val_loss: 0.6353 - val_accuracy: 0.8333\n",
      "Epoch 63/150\n",
      "124/124 [==============================] - 0s 78us/step - loss: 0.4990 - accuracy: 0.9435 - val_loss: 0.6265 - val_accuracy: 0.8333\n",
      "Epoch 64/150\n",
      "124/124 [==============================] - 0s 85us/step - loss: 0.4898 - accuracy: 0.9435 - val_loss: 0.6178 - val_accuracy: 0.8333\n",
      "Epoch 65/150\n",
      "124/124 [==============================] - 0s 108us/step - loss: 0.4806 - accuracy: 0.9516 - val_loss: 0.6097 - val_accuracy: 0.8519\n",
      "Epoch 66/150\n",
      "124/124 [==============================] - 0s 96us/step - loss: 0.4715 - accuracy: 0.9516 - val_loss: 0.6019 - val_accuracy: 0.8519\n",
      "Epoch 67/150\n",
      "124/124 [==============================] - 0s 115us/step - loss: 0.4625 - accuracy: 0.9516 - val_loss: 0.5942 - val_accuracy: 0.8519\n",
      "Epoch 68/150\n",
      "124/124 [==============================] - 0s 96us/step - loss: 0.4541 - accuracy: 0.9516 - val_loss: 0.5862 - val_accuracy: 0.8519\n",
      "Epoch 69/150\n",
      "124/124 [==============================] - 0s 105us/step - loss: 0.4454 - accuracy: 0.9516 - val_loss: 0.5785 - val_accuracy: 0.8519\n",
      "Epoch 70/150\n",
      "124/124 [==============================] - ETA: 0s - loss: 0.3885 - accuracy: 0.95 - 0s 116us/step - loss: 0.4368 - accuracy: 0.9677 - val_loss: 0.5711 - val_accuracy: 0.8704\n",
      "Epoch 71/150\n",
      "124/124 [==============================] - 0s 125us/step - loss: 0.4286 - accuracy: 0.9677 - val_loss: 0.5635 - val_accuracy: 0.8519\n",
      "Epoch 72/150\n",
      "124/124 [==============================] - 0s 115us/step - loss: 0.4201 - accuracy: 0.9677 - val_loss: 0.5560 - val_accuracy: 0.8519\n",
      "Epoch 73/150\n",
      "124/124 [==============================] - 0s 138us/step - loss: 0.4118 - accuracy: 0.9677 - val_loss: 0.5487 - val_accuracy: 0.8519\n",
      "Epoch 74/150\n",
      "124/124 [==============================] - 0s 150us/step - loss: 0.4036 - accuracy: 0.9677 - val_loss: 0.5418 - val_accuracy: 0.8704\n",
      "Epoch 75/150\n",
      "124/124 [==============================] - 0s 111us/step - loss: 0.3954 - accuracy: 0.9677 - val_loss: 0.5348 - val_accuracy: 0.8704\n",
      "Epoch 76/150\n",
      "124/124 [==============================] - 0s 117us/step - loss: 0.3875 - accuracy: 0.9677 - val_loss: 0.5276 - val_accuracy: 0.8704\n",
      "Epoch 77/150\n",
      "124/124 [==============================] - 0s 112us/step - loss: 0.3799 - accuracy: 0.9677 - val_loss: 0.5201 - val_accuracy: 0.8704\n",
      "Epoch 78/150\n",
      "124/124 [==============================] - 0s 113us/step - loss: 0.3722 - accuracy: 0.9677 - val_loss: 0.5125 - val_accuracy: 0.8704\n",
      "Epoch 79/150\n",
      "124/124 [==============================] - 0s 113us/step - loss: 0.3647 - accuracy: 0.9677 - val_loss: 0.5056 - val_accuracy: 0.8704\n",
      "Epoch 80/150\n",
      "124/124 [==============================] - 0s 135us/step - loss: 0.3575 - accuracy: 0.9677 - val_loss: 0.4991 - val_accuracy: 0.8704\n",
      "Epoch 81/150\n",
      "124/124 [==============================] - 0s 130us/step - loss: 0.3505 - accuracy: 0.9758 - val_loss: 0.4926 - val_accuracy: 0.8889\n",
      "Epoch 82/150\n",
      "124/124 [==============================] - 0s 171us/step - loss: 0.3435 - accuracy: 0.9758 - val_loss: 0.4862 - val_accuracy: 0.8889\n",
      "Epoch 83/150\n",
      "124/124 [==============================] - 0s 130us/step - loss: 0.3367 - accuracy: 0.9758 - val_loss: 0.4800 - val_accuracy: 0.8889\n",
      "Epoch 84/150\n",
      "124/124 [==============================] - 0s 102us/step - loss: 0.3297 - accuracy: 0.9839 - val_loss: 0.4738 - val_accuracy: 0.8889\n",
      "Epoch 85/150\n",
      "124/124 [==============================] - 0s 86us/step - loss: 0.3227 - accuracy: 0.9839 - val_loss: 0.4675 - val_accuracy: 0.8889\n",
      "Epoch 86/150\n",
      "124/124 [==============================] - 0s 149us/step - loss: 0.3155 - accuracy: 0.9839 - val_loss: 0.4613 - val_accuracy: 0.8889\n",
      "Epoch 87/150\n",
      "124/124 [==============================] - 0s 134us/step - loss: 0.3086 - accuracy: 0.9839 - val_loss: 0.4553 - val_accuracy: 0.9074\n",
      "Epoch 88/150\n",
      "124/124 [==============================] - 0s 95us/step - loss: 0.3017 - accuracy: 0.9839 - val_loss: 0.4494 - val_accuracy: 0.9074\n",
      "Epoch 89/150\n",
      "124/124 [==============================] - 0s 98us/step - loss: 0.2950 - accuracy: 0.9839 - val_loss: 0.4437 - val_accuracy: 0.9259\n",
      "Epoch 90/150\n",
      "124/124 [==============================] - 0s 178us/step - loss: 0.2886 - accuracy: 0.9839 - val_loss: 0.4378 - val_accuracy: 0.9259\n",
      "Epoch 91/150\n",
      "124/124 [==============================] - 0s 115us/step - loss: 0.2822 - accuracy: 0.9919 - val_loss: 0.4321 - val_accuracy: 0.9259\n",
      "Epoch 92/150\n",
      "124/124 [==============================] - 0s 138us/step - loss: 0.2758 - accuracy: 0.9919 - val_loss: 0.4263 - val_accuracy: 0.9259\n",
      "Epoch 93/150\n",
      "124/124 [==============================] - 0s 166us/step - loss: 0.2694 - accuracy: 0.9919 - val_loss: 0.4204 - val_accuracy: 0.9259\n",
      "Epoch 94/150\n",
      "124/124 [==============================] - 0s 166us/step - loss: 0.2629 - accuracy: 0.9919 - val_loss: 0.4145 - val_accuracy: 0.9259\n",
      "Epoch 95/150\n",
      "124/124 [==============================] - 0s 138us/step - loss: 0.2562 - accuracy: 0.9919 - val_loss: 0.4086 - val_accuracy: 0.9259\n",
      "Epoch 96/150\n",
      "124/124 [==============================] - 0s 144us/step - loss: 0.2496 - accuracy: 0.9919 - val_loss: 0.4025 - val_accuracy: 0.9259\n",
      "Epoch 97/150\n",
      "124/124 [==============================] - 0s 88us/step - loss: 0.2428 - accuracy: 0.9919 - val_loss: 0.3965 - val_accuracy: 0.9259\n",
      "Epoch 98/150\n",
      "124/124 [==============================] - 0s 70us/step - loss: 0.2363 - accuracy: 0.9919 - val_loss: 0.3909 - val_accuracy: 0.9259\n",
      "Epoch 99/150\n",
      "124/124 [==============================] - 0s 137us/step - loss: 0.2302 - accuracy: 0.9919 - val_loss: 0.3854 - val_accuracy: 0.9259\n",
      "Epoch 100/150\n",
      "124/124 [==============================] - 0s 101us/step - loss: 0.2239 - accuracy: 0.9919 - val_loss: 0.3802 - val_accuracy: 0.9259\n",
      "Epoch 101/150\n",
      "124/124 [==============================] - 0s 114us/step - loss: 0.2179 - accuracy: 0.9919 - val_loss: 0.3750 - val_accuracy: 0.9259\n",
      "Epoch 102/150\n",
      "124/124 [==============================] - 0s 112us/step - loss: 0.2118 - accuracy: 0.9919 - val_loss: 0.3698 - val_accuracy: 0.9259\n",
      "Epoch 103/150\n",
      "124/124 [==============================] - 0s 127us/step - loss: 0.2057 - accuracy: 0.9919 - val_loss: 0.3647 - val_accuracy: 0.9259\n",
      "Epoch 104/150\n",
      "124/124 [==============================] - 0s 100us/step - loss: 0.1999 - accuracy: 0.9919 - val_loss: 0.3592 - val_accuracy: 0.9259\n",
      "Epoch 105/150\n",
      "124/124 [==============================] - 0s 102us/step - loss: 0.1943 - accuracy: 0.9919 - val_loss: 0.3537 - val_accuracy: 0.9259\n",
      "Epoch 106/150\n",
      "124/124 [==============================] - 0s 93us/step - loss: 0.1887 - accuracy: 0.9919 - val_loss: 0.3484 - val_accuracy: 0.9259\n",
      "Epoch 107/150\n",
      "124/124 [==============================] - 0s 75us/step - loss: 0.1835 - accuracy: 0.9919 - val_loss: 0.3432 - val_accuracy: 0.9259\n",
      "Epoch 108/150\n",
      "124/124 [==============================] - 0s 78us/step - loss: 0.1782 - accuracy: 0.9919 - val_loss: 0.3379 - val_accuracy: 0.9259\n",
      "Epoch 109/150\n",
      "124/124 [==============================] - 0s 87us/step - loss: 0.1730 - accuracy: 0.9919 - val_loss: 0.3323 - val_accuracy: 0.9259\n",
      "Epoch 110/150\n",
      "124/124 [==============================] - 0s 145us/step - loss: 0.1680 - accuracy: 0.9919 - val_loss: 0.3273 - val_accuracy: 0.9259\n",
      "Epoch 111/150\n",
      "124/124 [==============================] - 0s 106us/step - loss: 0.1634 - accuracy: 0.9919 - val_loss: 0.3224 - val_accuracy: 0.9259\n",
      "Epoch 112/150\n",
      "124/124 [==============================] - 0s 88us/step - loss: 0.1583 - accuracy: 0.9919 - val_loss: 0.3174 - val_accuracy: 0.9259\n"
     ]
    },
    {
     "name": "stdout",
     "output_type": "stream",
     "text": [
      "Epoch 113/150\n",
      "124/124 [==============================] - 0s 84us/step - loss: 0.1531 - accuracy: 0.9919 - val_loss: 0.3130 - val_accuracy: 0.9259\n",
      "Epoch 114/150\n",
      "124/124 [==============================] - 0s 104us/step - loss: 0.1479 - accuracy: 0.9919 - val_loss: 0.3083 - val_accuracy: 0.9259\n",
      "Epoch 115/150\n",
      "124/124 [==============================] - 0s 98us/step - loss: 0.1430 - accuracy: 0.9919 - val_loss: 0.3036 - val_accuracy: 0.9259\n",
      "Epoch 116/150\n",
      "124/124 [==============================] - 0s 78us/step - loss: 0.1382 - accuracy: 0.9919 - val_loss: 0.2991 - val_accuracy: 0.9259\n",
      "Epoch 117/150\n",
      "124/124 [==============================] - 0s 130us/step - loss: 0.1339 - accuracy: 0.9919 - val_loss: 0.2944 - val_accuracy: 0.9259\n",
      "Epoch 118/150\n",
      "124/124 [==============================] - 0s 235us/step - loss: 0.1296 - accuracy: 0.9919 - val_loss: 0.2898 - val_accuracy: 0.9259\n",
      "Epoch 119/150\n",
      "124/124 [==============================] - 0s 144us/step - loss: 0.1252 - accuracy: 0.9919 - val_loss: 0.2853 - val_accuracy: 0.9259\n",
      "Epoch 120/150\n",
      "124/124 [==============================] - 0s 117us/step - loss: 0.1211 - accuracy: 0.9919 - val_loss: 0.2812 - val_accuracy: 0.9259\n",
      "Epoch 121/150\n",
      "124/124 [==============================] - 0s 129us/step - loss: 0.1173 - accuracy: 0.9919 - val_loss: 0.2772 - val_accuracy: 0.9259\n",
      "Epoch 122/150\n",
      "124/124 [==============================] - 0s 113us/step - loss: 0.1135 - accuracy: 1.0000 - val_loss: 0.2731 - val_accuracy: 0.9259\n",
      "Epoch 123/150\n",
      "124/124 [==============================] - 0s 94us/step - loss: 0.1099 - accuracy: 1.0000 - val_loss: 0.2688 - val_accuracy: 0.9259\n",
      "Epoch 124/150\n",
      "124/124 [==============================] - 0s 105us/step - loss: 0.1065 - accuracy: 1.0000 - val_loss: 0.2648 - val_accuracy: 0.9259\n",
      "Epoch 125/150\n",
      "124/124 [==============================] - 0s 135us/step - loss: 0.1033 - accuracy: 1.0000 - val_loss: 0.2609 - val_accuracy: 0.9259\n",
      "Epoch 126/150\n",
      "124/124 [==============================] - 0s 104us/step - loss: 0.1002 - accuracy: 1.0000 - val_loss: 0.2576 - val_accuracy: 0.9259\n",
      "Epoch 127/150\n",
      "124/124 [==============================] - 0s 92us/step - loss: 0.0974 - accuracy: 1.0000 - val_loss: 0.2545 - val_accuracy: 0.9259\n",
      "Epoch 128/150\n",
      "124/124 [==============================] - 0s 86us/step - loss: 0.0945 - accuracy: 1.0000 - val_loss: 0.2515 - val_accuracy: 0.9259\n",
      "Epoch 129/150\n",
      "124/124 [==============================] - 0s 65us/step - loss: 0.0918 - accuracy: 1.0000 - val_loss: 0.2486 - val_accuracy: 0.9259\n",
      "Epoch 130/150\n",
      "124/124 [==============================] - 0s 73us/step - loss: 0.0893 - accuracy: 1.0000 - val_loss: 0.2459 - val_accuracy: 0.9259\n",
      "Epoch 131/150\n",
      "124/124 [==============================] - 0s 99us/step - loss: 0.0867 - accuracy: 1.0000 - val_loss: 0.2436 - val_accuracy: 0.9259\n",
      "Epoch 132/150\n",
      "124/124 [==============================] - 0s 109us/step - loss: 0.0843 - accuracy: 1.0000 - val_loss: 0.2415 - val_accuracy: 0.9259\n",
      "Epoch 133/150\n",
      "124/124 [==============================] - 0s 87us/step - loss: 0.0821 - accuracy: 1.0000 - val_loss: 0.2395 - val_accuracy: 0.9259\n",
      "Epoch 134/150\n",
      "124/124 [==============================] - 0s 100us/step - loss: 0.0800 - accuracy: 1.0000 - val_loss: 0.2379 - val_accuracy: 0.9259\n",
      "Epoch 135/150\n",
      "124/124 [==============================] - 0s 89us/step - loss: 0.0781 - accuracy: 1.0000 - val_loss: 0.2368 - val_accuracy: 0.9259\n",
      "Epoch 136/150\n",
      "124/124 [==============================] - 0s 107us/step - loss: 0.0760 - accuracy: 1.0000 - val_loss: 0.2354 - val_accuracy: 0.9259\n",
      "Epoch 137/150\n",
      "124/124 [==============================] - 0s 110us/step - loss: 0.0740 - accuracy: 1.0000 - val_loss: 0.2338 - val_accuracy: 0.9259\n",
      "Epoch 138/150\n",
      "124/124 [==============================] - 0s 84us/step - loss: 0.0720 - accuracy: 1.0000 - val_loss: 0.2320 - val_accuracy: 0.9259\n",
      "Epoch 139/150\n",
      "124/124 [==============================] - 0s 79us/step - loss: 0.0700 - accuracy: 1.0000 - val_loss: 0.2302 - val_accuracy: 0.9259\n",
      "Epoch 140/150\n",
      "124/124 [==============================] - 0s 90us/step - loss: 0.0682 - accuracy: 1.0000 - val_loss: 0.2285 - val_accuracy: 0.9259\n",
      "Epoch 141/150\n",
      "124/124 [==============================] - 0s 82us/step - loss: 0.0664 - accuracy: 1.0000 - val_loss: 0.2267 - val_accuracy: 0.9259\n",
      "Epoch 142/150\n",
      "124/124 [==============================] - 0s 74us/step - loss: 0.0645 - accuracy: 1.0000 - val_loss: 0.2249 - val_accuracy: 0.9259\n",
      "Epoch 143/150\n",
      "124/124 [==============================] - 0s 113us/step - loss: 0.0627 - accuracy: 1.0000 - val_loss: 0.2231 - val_accuracy: 0.9259\n",
      "Epoch 144/150\n",
      "124/124 [==============================] - 0s 176us/step - loss: 0.0609 - accuracy: 1.0000 - val_loss: 0.2214 - val_accuracy: 0.9259\n",
      "Epoch 145/150\n",
      "124/124 [==============================] - 0s 158us/step - loss: 0.0593 - accuracy: 1.0000 - val_loss: 0.2198 - val_accuracy: 0.9259\n",
      "Epoch 146/150\n",
      "124/124 [==============================] - 0s 94us/step - loss: 0.0577 - accuracy: 1.0000 - val_loss: 0.2183 - val_accuracy: 0.9259\n",
      "Epoch 147/150\n",
      "124/124 [==============================] - 0s 91us/step - loss: 0.0563 - accuracy: 1.0000 - val_loss: 0.2169 - val_accuracy: 0.9259\n",
      "Epoch 148/150\n",
      "124/124 [==============================] - 0s 146us/step - loss: 0.0550 - accuracy: 1.0000 - val_loss: 0.2156 - val_accuracy: 0.9259\n",
      "Epoch 149/150\n",
      "124/124 [==============================] - 0s 121us/step - loss: 0.0536 - accuracy: 1.0000 - val_loss: 0.2142 - val_accuracy: 0.9259\n",
      "Epoch 150/150\n",
      "124/124 [==============================] - 0s 111us/step - loss: 0.0523 - accuracy: 1.0000 - val_loss: 0.2132 - val_accuracy: 0.9259\n",
      "Test loss: 0.21319330290511804\n",
      "Test accuracy: 0.9259259104728699\n"
     ]
    }
   ],
   "source": [
    "history = mlp_model.fit(x_train, y_train,\n",
    "                    batch_size=batch_size,\n",
    "                    epochs=150,\n",
    "                    verbose=1,\n",
    "                    validation_data=(x_test, y_test))\n",
    "\n",
    "score = mlp_model.evaluate(x_test, y_test, verbose=0)\n",
    "print('Test loss:', score[0])\n",
    "print('Test accuracy:', score[1])"
   ]
  },
  {
   "cell_type": "markdown",
   "metadata": {},
   "source": [
    "# CNN"
   ]
  },
  {
   "cell_type": "markdown",
   "metadata": {},
   "source": [
    "## Data Fetch"
   ]
  },
  {
   "cell_type": "code",
   "execution_count": 32,
   "metadata": {},
   "outputs": [],
   "source": [
    "import os, shutil\n",
    "from keras.preprocessing import image\n",
    "\n",
    "def get_files_in_dir(path):\n",
    "    return [os.path.join(path, fname) for fname in os.listdir(path)]\n",
    "\n",
    "train_dir = 'fruits-360_dataset/banana_and_apple/train/'\n",
    "\n",
    "test_dir = 'fruits-360_dataset/banana_and_apple/test/'\n",
    "\n",
    "train_apple_dir = train_dir + 'Apple Golden 2'\n",
    "train_banana_dir = train_dir + 'Banana'\n",
    "train_banana_red_dir = train_dir + 'Banana Red'\n",
    "train_cherry_wax_dir = train_dir + 'Cherry Wax Red'\n",
    "train_apple_red_dir = train_dir + 'Apple Braeburn'\n",
    "\n",
    "fnames_apple = get_files_in_dir(train_apple_dir)\n",
    "fnames_banana = get_files_in_dir(train_banana_dir)\n",
    "fnames_banana_red = get_files_in_dir(train_banana_red_dir)\n",
    "fnames_cherry_wax = get_files_in_dir(train_cherry_wax_dir)\n",
    "fnames_apple_red = get_files_in_dir(train_apple_red_dir)\n",
    "\n",
    "apple = image.load_img(fnames_apple[3], target_size=(100, 100))\n",
    "banana = image.load_img(fnames_banana[3], target_size=(100, 100))\n",
    "banana_red = image.load_img(fnames_banana_red[3], target_size=(100, 100))\n",
    "cherry = image.load_img(fnames_cherry_wax[3], target_size=(100, 100))\n",
    "apple_red = image.load_img(fnames_apple_red[3], target_size=(100, 100))"
   ]
  },
  {
   "cell_type": "markdown",
   "metadata": {},
   "source": [
    "## Class examples"
   ]
  },
  {
   "cell_type": "code",
   "execution_count": 33,
   "metadata": {},
   "outputs": [
    {
     "data": {
      "image/png": "[encoded data removed]",
      "text/plain": [
       "<PIL.JpegImagePlugin.JpegImageFile image mode=RGB size=100x100 at 0x7FD6A35B7B70>"
      ]
     },
     "execution_count": 33,
     "metadata": {},
     "output_type": "execute_result"
    }
   ],
   "source": [
    "apple"
   ]
  },
  {
   "cell_type": "code",
   "execution_count": 34,
   "metadata": {},
   "outputs": [
    {
     "data": {
      "image/png": "[encoded data removed]",
      "text/plain": [
       "<PIL.JpegImagePlugin.JpegImageFile image mode=RGB size=100x100 at 0x7FD6A35B7B38>"
      ]
     },
     "execution_count": 34,
     "metadata": {},
     "output_type": "execute_result"
    }
   ],
   "source": [
    "banana"
   ]
  },
  {
   "cell_type": "code",
   "execution_count": 35,
   "metadata": {},
   "outputs": [
    {
     "data": {
      "image/png": "[encoded data removed]",
      "text/plain": [
       "<PIL.JpegImagePlugin.JpegImageFile image mode=RGB size=100x100 at 0x7FD6A35B7B00>"
      ]
     },
     "execution_count": 35,
     "metadata": {},
     "output_type": "execute_result"
    }
   ],
   "source": [
    "banana_red"
   ]
  },
  {
   "cell_type": "code",
   "execution_count": 36,
   "metadata": {},
   "outputs": [
    {
     "data": {
      "image/png": "[encoded data removed]",
      "text/plain": [
       "<PIL.JpegImagePlugin.JpegImageFile image mode=RGB size=100x100 at 0x7FD6A359E4A8>"
      ]
     },
     "execution_count": 36,
     "metadata": {},
     "output_type": "execute_result"
    }
   ],
   "source": [
    "cherry"
   ]
  },
  {
   "cell_type": "code",
   "execution_count": 37,
   "metadata": {},
   "outputs": [
    {
     "data": {
      "image/png": "[encoded data removed]",
      "text/plain": [
       "<PIL.JpegImagePlugin.JpegImageFile image mode=RGB size=100x100 at 0x7FD6A35B7C50>"
      ]
     },
     "execution_count": 37,
     "metadata": {},
     "output_type": "execute_result"
    }
   ],
   "source": [
    "apple_red"
   ]
  },
  {
   "cell_type": "markdown",
   "metadata": {},
   "source": [
    "## Model building"
   ]
  },
  {
   "cell_type": "code",
   "execution_count": 38,
   "metadata": {},
   "outputs": [],
   "source": [
    "from keras.preprocessing.image import ImageDataGenerator\n",
    "\n",
    "train_datagen = ImageDataGenerator(\n",
    "    rescale=1./255,\n",
    "    rotation_range=40,\n",
    "    width_shift_range=0.2,\n",
    "    height_shift_range=0.2,\n",
    "    shear_range=0.2,\n",
    "    zoom_range=0.2,\n",
    "    horizontal_flip=True,)\n",
    "\n",
    "val_datagen = ImageDataGenerator(rescale=1./255)"
   ]
  },
  {
   "cell_type": "code",
   "execution_count": 40,
   "metadata": {},
   "outputs": [
    {
     "name": "stdout",
     "output_type": "stream",
     "text": [
      "Found 2456 images belonging to 5 classes.\n",
      "Found 824 images belonging to 5 classes.\n"
     ]
    }
   ],
   "source": [
    "img_size = (100, 100)\n",
    "\n",
    "train_generator = train_datagen.flow_from_directory(\n",
    "    train_dir,\n",
    "    target_size=img_size,\n",
    "    batch_size=32,\n",
    "    class_mode='binary')\n",
    "\n",
    "validation_generator = val_datagen.flow_from_directory(\n",
    "    test_dir,\n",
    "    target_size=img_size,\n",
    "    batch_size=32,\n",
    "    class_mode='binary')\n",
    "\n",
    "num_of_classes = 5"
   ]
  },
  {
   "cell_type": "code",
   "execution_count": 44,
   "metadata": {},
   "outputs": [
    {
     "name": "stdout",
     "output_type": "stream",
     "text": [
      "Model: \"sequential_8\"\n",
      "_________________________________________________________________\n",
      "Layer (type)                 Output Shape              Param #   \n",
      "=================================================================\n",
      "conv2d_10 (Conv2D)           (None, 100, 100, 16)      208       \n",
      "_________________________________________________________________\n",
      "max_pooling2d_10 (MaxPooling (None, 50, 50, 16)        0         \n",
      "_________________________________________________________________\n",
      "conv2d_11 (Conv2D)           (None, 50, 50, 32)        4640      \n",
      "_________________________________________________________________\n",
      "max_pooling2d_11 (MaxPooling (None, 25, 25, 32)        0         \n",
      "_________________________________________________________________\n",
      "conv2d_12 (Conv2D)           (None, 25, 25, 64)        32832     \n",
      "_________________________________________________________________\n",
      "max_pooling2d_12 (MaxPooling (None, 13, 13, 64)        0         \n",
      "_________________________________________________________________\n",
      "flatten_4 (Flatten)          (None, 10816)             0         \n",
      "_________________________________________________________________\n",
      "dense_17 (Dense)             (None, 256)               2769152   \n",
      "_________________________________________________________________\n",
      "dense_18 (Dense)             (None, 5)                 1285      \n",
      "=================================================================\n",
      "Total params: 2,808,117\n",
      "Trainable params: 2,808,117\n",
      "Non-trainable params: 0\n",
      "_________________________________________________________________\n"
     ]
    }
   ],
   "source": [
    "from keras.models import Sequential\n",
    "from keras.layers import Conv2D, MaxPooling2D, AveragePooling2D\n",
    "from keras.layers import Dropout, Flatten, Dense\n",
    "\n",
    "cnn_model = Sequential()\n",
    "\n",
    "cnn_model.add(Conv2D(filters=16, kernel_size=(2, 2), padding=\"same\", activation=\"relu\", input_shape=(100,100,3)))\n",
    "cnn_model.add(MaxPooling2D(pool_size=(2, 2), padding='same'))\n",
    "\n",
    "cnn_model.add(Conv2D(filters=32, kernel_size=(3, 3), padding=\"same\", activation=\"relu\"))\n",
    "cnn_model.add(MaxPooling2D(pool_size=(2, 2), padding='same'))\n",
    "\n",
    "cnn_model.add(Conv2D(filters=64, kernel_size=(4, 4), padding=\"same\", activation=\"relu\"))\n",
    "cnn_model.add(MaxPooling2D(pool_size=(2, 2), padding='same'))\n",
    "\n",
    "cnn_model.add(Flatten())\n",
    "\n",
    "cnn_model.add(Dense(256, activation=\"relu\"))\n",
    "cnn_model.add(Dense(num_of_classes, activation=\"softmax\"))\n",
    "\n",
    "cnn_model.compile(optimizer='adam', loss='sparse_categorical_crossentropy', metrics=['accuracy'])\n",
    "cnn_model.summary()"
   ]
  },
  {
   "cell_type": "code",
   "execution_count": 45,
   "metadata": {},
   "outputs": [
    {
     "name": "stdout",
     "output_type": "stream",
     "text": [
      "Epoch 1/5\n",
      "30/30 [==============================] - 11s 357ms/step - loss: 1.1111 - accuracy: 0.5021 - val_loss: 0.2137 - val_accuracy: 0.8456\n",
      "Epoch 2/5\n",
      "30/30 [==============================] - 9s 299ms/step - loss: 0.2438 - accuracy: 0.9125 - val_loss: 0.0553 - val_accuracy: 0.9832\n",
      "Epoch 3/5\n",
      "30/30 [==============================] - 10s 337ms/step - loss: 0.0430 - accuracy: 0.9937 - val_loss: 0.0053 - val_accuracy: 1.0000\n",
      "Epoch 4/5\n",
      "30/30 [==============================] - 9s 314ms/step - loss: 0.0167 - accuracy: 0.9937 - val_loss: 0.0025 - val_accuracy: 1.0000\n",
      "Epoch 5/5\n",
      "30/30 [==============================] - 10s 317ms/step - loss: 0.0112 - accuracy: 0.9990 - val_loss: 6.7327e-04 - val_accuracy: 1.0000\n"
     ]
    }
   ],
   "source": [
    "cnn_history = cnn_model.fit_generator(\n",
    "                    train_generator,\n",
    "                    steps_per_epoch=30,\n",
    "                    epochs=5,\n",
    "                    verbose=1,\n",
    "                    validation_data=validation_generator,\n",
    "                    validation_steps=30)"
   ]
  },
  {
   "cell_type": "markdown",
   "metadata": {},
   "source": [
    "## RNN"
   ]
  },
  {
   "cell_type": "code",
   "execution_count": 14,
   "metadata": {},
   "outputs": [
    {
     "data": {
      "text/html": [
       "<div>\n",
       "<style scoped>\n",
       "    .dataframe tbody tr th:only-of-type {\n",
       "        vertical-align: middle;\n",
       "    }\n",
       "\n",
       "    .dataframe tbody tr th {\n",
       "        vertical-align: top;\n",
       "    }\n",
       "\n",
       "    .dataframe thead th {\n",
       "        text-align: right;\n",
       "    }\n",
       "</style>\n",
       "<table border=\"1\" class=\"dataframe\">\n",
       "  <thead>\n",
       "    <tr style=\"text-align: right;\">\n",
       "      <th></th>\n",
       "      <th>Datetime</th>\n",
       "      <th>AEP_MW</th>\n",
       "    </tr>\n",
       "  </thead>\n",
       "  <tbody>\n",
       "    <tr>\n",
       "      <th>0</th>\n",
       "      <td>2004-12-31 01:00:00</td>\n",
       "      <td>13478.0</td>\n",
       "    </tr>\n",
       "    <tr>\n",
       "      <th>1</th>\n",
       "      <td>2004-12-31 02:00:00</td>\n",
       "      <td>12865.0</td>\n",
       "    </tr>\n",
       "    <tr>\n",
       "      <th>2</th>\n",
       "      <td>2004-12-31 03:00:00</td>\n",
       "      <td>12577.0</td>\n",
       "    </tr>\n",
       "    <tr>\n",
       "      <th>3</th>\n",
       "      <td>2004-12-31 04:00:00</td>\n",
       "      <td>12517.0</td>\n",
       "    </tr>\n",
       "    <tr>\n",
       "      <th>4</th>\n",
       "      <td>2004-12-31 05:00:00</td>\n",
       "      <td>12670.0</td>\n",
       "    </tr>\n",
       "    <tr>\n",
       "      <th>...</th>\n",
       "      <td>...</td>\n",
       "      <td>...</td>\n",
       "    </tr>\n",
       "    <tr>\n",
       "      <th>121268</th>\n",
       "      <td>2018-01-01 20:00:00</td>\n",
       "      <td>21089.0</td>\n",
       "    </tr>\n",
       "    <tr>\n",
       "      <th>121269</th>\n",
       "      <td>2018-01-01 21:00:00</td>\n",
       "      <td>20999.0</td>\n",
       "    </tr>\n",
       "    <tr>\n",
       "      <th>121270</th>\n",
       "      <td>2018-01-01 22:00:00</td>\n",
       "      <td>20820.0</td>\n",
       "    </tr>\n",
       "    <tr>\n",
       "      <th>121271</th>\n",
       "      <td>2018-01-01 23:00:00</td>\n",
       "      <td>20415.0</td>\n",
       "    </tr>\n",
       "    <tr>\n",
       "      <th>121272</th>\n",
       "      <td>2018-01-02 00:00:00</td>\n",
       "      <td>19993.0</td>\n",
       "    </tr>\n",
       "  </tbody>\n",
       "</table>\n",
       "<p>121273 rows × 2 columns</p>\n",
       "</div>"
      ],
      "text/plain": [
       "                   Datetime   AEP_MW\n",
       "0       2004-12-31 01:00:00  13478.0\n",
       "1       2004-12-31 02:00:00  12865.0\n",
       "2       2004-12-31 03:00:00  12577.0\n",
       "3       2004-12-31 04:00:00  12517.0\n",
       "4       2004-12-31 05:00:00  12670.0\n",
       "...                     ...      ...\n",
       "121268  2018-01-01 20:00:00  21089.0\n",
       "121269  2018-01-01 21:00:00  20999.0\n",
       "121270  2018-01-01 22:00:00  20820.0\n",
       "121271  2018-01-01 23:00:00  20415.0\n",
       "121272  2018-01-02 00:00:00  19993.0\n",
       "\n",
       "[121273 rows x 2 columns]"
      ]
     },
     "execution_count": 14,
     "metadata": {},
     "output_type": "execute_result"
    }
   ],
   "source": [
    "import pandas as pd\n",
    "\n",
    "data = pd.read_csv('hourly-energy-consumption/AEP_hourly.csv', encoding='windows-1252')\n",
    "\n",
    "data"
   ]
  },
  {
   "cell_type": "code",
   "execution_count": 15,
   "metadata": {},
   "outputs": [
    {
     "data": {
      "text/html": [
       "<div>\n",
       "<style scoped>\n",
       "    .dataframe tbody tr th:only-of-type {\n",
       "        vertical-align: middle;\n",
       "    }\n",
       "\n",
       "    .dataframe tbody tr th {\n",
       "        vertical-align: top;\n",
       "    }\n",
       "\n",
       "    .dataframe thead th {\n",
       "        text-align: right;\n",
       "    }\n",
       "</style>\n",
       "<table border=\"1\" class=\"dataframe\">\n",
       "  <thead>\n",
       "    <tr style=\"text-align: right;\">\n",
       "      <th></th>\n",
       "      <th>AEP_MW</th>\n",
       "    </tr>\n",
       "    <tr>\n",
       "      <th>Datetime</th>\n",
       "      <th></th>\n",
       "    </tr>\n",
       "  </thead>\n",
       "  <tbody>\n",
       "    <tr>\n",
       "      <th>2004-12-31 01:00:00</th>\n",
       "      <td>13478.0</td>\n",
       "    </tr>\n",
       "    <tr>\n",
       "      <th>2004-12-31 02:00:00</th>\n",
       "      <td>12865.0</td>\n",
       "    </tr>\n",
       "    <tr>\n",
       "      <th>2004-12-31 03:00:00</th>\n",
       "      <td>12577.0</td>\n",
       "    </tr>\n",
       "    <tr>\n",
       "      <th>2004-12-31 04:00:00</th>\n",
       "      <td>12517.0</td>\n",
       "    </tr>\n",
       "    <tr>\n",
       "      <th>2004-12-31 05:00:00</th>\n",
       "      <td>12670.0</td>\n",
       "    </tr>\n",
       "  </tbody>\n",
       "</table>\n",
       "</div>"
      ],
      "text/plain": [
       "                      AEP_MW\n",
       "Datetime                    \n",
       "2004-12-31 01:00:00  13478.0\n",
       "2004-12-31 02:00:00  12865.0\n",
       "2004-12-31 03:00:00  12577.0\n",
       "2004-12-31 04:00:00  12517.0\n",
       "2004-12-31 05:00:00  12670.0"
      ]
     },
     "execution_count": 15,
     "metadata": {},
     "output_type": "execute_result"
    }
   ],
   "source": [
    "df = pd.read_csv('hourly-energy-consumption/AEP_hourly.csv', index_col='Datetime', parse_dates=['Datetime'])\n",
    "df.head()"
   ]
  },
  {
   "cell_type": "code",
   "execution_count": 16,
   "metadata": {},
   "outputs": [
    {
     "data": {
      "text/plain": [
       "<matplotlib.axes._subplots.AxesSubplot at 0x7fd6aa316390>"
      ]
     },
     "execution_count": 16,
     "metadata": {},
     "output_type": "execute_result"
    }
   ],
   "source": [
    "df.plot(figsize=(16,4),legend=True)"
   ]
  },
  {
   "cell_type": "code",
   "execution_count": 17,
   "metadata": {},
   "outputs": [
    {
     "data": {
      "text/plain": [
       "(121273, 1)"
      ]
     },
     "execution_count": 17,
     "metadata": {},
     "output_type": "execute_result"
    }
   ],
   "source": [
    "from sklearn.preprocessing import MinMaxScaler\n",
    "\n",
    "def normalize_data(df):\n",
    "    scaler = MinMaxScaler()\n",
    "    df['AEP_MW']=scaler.fit_transform(df['AEP_MW'].values.reshape(-1,1))\n",
    "    return df\n",
    "\n",
    "df_norm = normalize_data(df)\n",
    "df_norm.shape"
   ]
  },
  {
   "cell_type": "code",
   "execution_count": 18,
   "metadata": {},
   "outputs": [
    {
     "data": {
      "text/plain": [
       "<matplotlib.axes._subplots.AxesSubplot at 0x7fd6a9aa2a20>"
      ]
     },
     "execution_count": 18,
     "metadata": {},
     "output_type": "execute_result"
    },
    {
     "data": {
      "image/png": "[encoded data removed]",
      "text/plain": [
       "<Figure size 1152x288 with 1 Axes>"
      ]
     },
     "metadata": {
      "needs_background": "light"
     },
     "output_type": "display_data"
    }
   ],
   "source": [
    "df.plot(figsize=(16,4),legend=True)"
   ]
  },
  {
   "cell_type": "code",
   "execution_count": 19,
   "metadata": {},
   "outputs": [],
   "source": [
    "import numpy as np\n",
    "\n",
    "def load_data(stock, seq_len):\n",
    "    X_train = []\n",
    "    y_train = []\n",
    "    for i in range(seq_len, len(stock)):\n",
    "        X_train.append(stock.iloc[i-seq_len : i, 0])\n",
    "        y_train.append(stock.iloc[i, 0])\n",
    "    \n",
    "    X_test = X_train[110000:]             \n",
    "    y_test = y_train[110000:]\n",
    "    \n",
    "    X_train = X_train[:110000]           \n",
    "    y_train = y_train[:110000]\n",
    "    \n",
    "    X_train = np.array(X_train)\n",
    "    y_train = np.array(y_train)\n",
    "    \n",
    "    X_test = np.array(X_test)\n",
    "    y_test = np.array(y_test)\n",
    "    \n",
    "    X_train = np.reshape(X_train, (110000, seq_len, 1))\n",
    "    \n",
    "    X_test = np.reshape(X_test, (X_test.shape[0], seq_len, 1))\n",
    "    \n",
    "    return [X_train, y_train, X_test, y_test]"
   ]
  },
  {
   "cell_type": "code",
   "execution_count": 20,
   "metadata": {},
   "outputs": [
    {
     "name": "stdout",
     "output_type": "stream",
     "text": [
      "X_train.shape =  (110000, 20, 1)\n",
      "y_train.shape =  (110000,)\n",
      "X_test.shape =  (11253, 20, 1)\n",
      "y_test.shape =  (11253,)\n"
     ]
    }
   ],
   "source": [
    "seq_len = 20\n",
    "X_train, y_train, X_test, y_test = load_data(df, seq_len)\n",
    "\n",
    "print('X_train.shape = ',X_train.shape)\n",
    "print('y_train.shape = ', y_train.shape)\n",
    "print('X_test.shape = ', X_test.shape)\n",
    "print('y_test.shape = ',y_test.shape)"
   ]
  },
  {
   "cell_type": "code",
   "execution_count": 21,
   "metadata": {},
   "outputs": [
    {
     "name": "stdout",
     "output_type": "stream",
     "text": [
      "Model: \"sequential_3\"\n",
      "_________________________________________________________________\n",
      "Layer (type)                 Output Shape              Param #   \n",
      "=================================================================\n",
      "simple_rnn_1 (SimpleRNN)     (None, 20, 40)            1680      \n",
      "_________________________________________________________________\n",
      "dropout_1 (Dropout)          (None, 20, 40)            0         \n",
      "_________________________________________________________________\n",
      "simple_rnn_2 (SimpleRNN)     (None, 20, 40)            3240      \n",
      "_________________________________________________________________\n",
      "dropout_2 (Dropout)          (None, 20, 40)            0         \n",
      "_________________________________________________________________\n",
      "simple_rnn_3 (SimpleRNN)     (None, 40)                3240      \n",
      "_________________________________________________________________\n",
      "dropout_3 (Dropout)          (None, 40)                0         \n",
      "_________________________________________________________________\n",
      "dense_6 (Dense)              (None, 1)                 41        \n",
      "=================================================================\n",
      "Total params: 8,201\n",
      "Trainable params: 8,201\n",
      "Non-trainable params: 0\n",
      "_________________________________________________________________\n"
     ]
    }
   ],
   "source": [
    "from keras.layers import Dense,Dropout,SimpleRNN\n",
    "\n",
    "rnn_model = Sequential()\n",
    "\n",
    "rnn_model.add(SimpleRNN(40,activation=\"tanh\",return_sequences=True, input_shape=(X_train.shape[1],1)))\n",
    "rnn_model.add(Dropout(0.15))\n",
    "\n",
    "rnn_model.add(SimpleRNN(40,activation=\"tanh\",return_sequences=True))\n",
    "rnn_model.add(Dropout(0.15))\n",
    "\n",
    "rnn_model.add(SimpleRNN(40,activation=\"tanh\",return_sequences=False))\n",
    "rnn_model.add(Dropout(0.15))\n",
    "\n",
    "rnn_model.add(Dense(1))\n",
    "\n",
    "rnn_model.summary()"
   ]
  },
  {
   "cell_type": "code",
   "execution_count": 22,
   "metadata": {},
   "outputs": [
    {
     "name": "stdout",
     "output_type": "stream",
     "text": [
      "Train on 110000 samples, validate on 11253 samples\n",
      "Epoch 1/3\n",
      "110000/110000 [==============================] - 39s 356us/step - loss: 0.0081 - val_loss: 6.2083e-04\n",
      "Epoch 2/3\n",
      "110000/110000 [==============================] - 39s 350us/step - loss: 0.0012 - val_loss: 6.2827e-04\n",
      "Epoch 3/3\n",
      "110000/110000 [==============================] - 39s 351us/step - loss: 0.0010 - val_loss: 6.2572e-04\n"
     ]
    },
    {
     "data": {
      "text/plain": [
       "<keras.callbacks.callbacks.History at 0x7fd6a85e4f60>"
      ]
     },
     "execution_count": 22,
     "metadata": {},
     "output_type": "execute_result"
    }
   ],
   "source": [
    "from keras.optimizers import Adam\n",
    "\n",
    "opt = Adam(lr=0.001, decay=1e-6)\n",
    "\n",
    "rnn_model.compile(\n",
    "    optimizer=opt,\n",
    "    loss=\"MSE\")\n",
    "\n",
    "rnn_model.fit(X_train,y_train,\n",
    "          epochs=3,\n",
    "          verbose=1,\n",
    "          validation_data=(X_test, y_test))"
   ]
  },
  {
   "cell_type": "code",
   "execution_count": 23,
   "metadata": {},
   "outputs": [
    {
     "name": "stdout",
     "output_type": "stream",
     "text": [
      "R2 Score of RNN model =  0.9733560438229244\n"
     ]
    }
   ],
   "source": [
    "\n",
    "from sklearn.metrics import r2_score\n",
    "\n",
    "\n",
    "rnn_predictions = rnn_model.predict(X_test)\n",
    "\n",
    "rnn_score = r2_score(y_test,rnn_predictions)\n",
    "print(\"R2 Score of RNN model = \",rnn_score)"
   ]
  },
  {
   "cell_type": "code",
   "execution_count": 24,
   "metadata": {},
   "outputs": [
    {
     "name": "stdout",
     "output_type": "stream",
     "text": [
      "Populating the interactive namespace from numpy and matplotlib\n"
     ]
    },
    {
     "data": {
      "image/png": "[encoded data removed]",
      "text/plain": [
       "<Figure size 1152x288 with 1 Axes>"
      ]
     },
     "metadata": {
      "needs_background": "light"
     },
     "output_type": "display_data"
    }
   ],
   "source": [
    "\n",
    "%pylab inline\n",
    "\n",
    "def plot_predictions(test, predicted, title):\n",
    "    plt.figure(figsize=(16,4))\n",
    "    plt.plot(test, color='blue',label='Actual')\n",
    "    plt.plot(predicted, alpha=0.7, color='orange',label='Predicted')\n",
    "    plt.title(title)\n",
    "    plt.legend()\n",
    "    plt.show()\n",
    "    \n",
    "plot_predictions(y_test, rnn_predictions, \"Predictions made by simple RNN model\")"
   ]
  }
 ],
 "metadata": {
  "kernelspec": {
   "display_name": "Python 2",
   "language": "python",
   "name": "python2"
  },
  "language_info": {
   "codemirror_mode": {
    "name": "ipython",
    "version": 3
   },
   "file_extension": ".py",
   "mimetype": "text/x-python",
   "name": "python",
   "nbconvert_exporter": "python",
   "pygments_lexer": "ipython3",
   "version": "3.6.8"
  }
 },
 "nbformat": 4,
 "nbformat_minor": 2
}
